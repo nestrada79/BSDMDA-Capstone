{
 "cells": [
  {
   "cell_type": "markdown",
   "id": "3c93da25-2a46-4d48-8eb0-599aabb60a47",
   "metadata": {},
   "source": [
    "# Project Overview\n",
    "\n",
    "The research question I have selected for this project is whether sending a text message to patients before their appointment will increase the likelihood that they keep their scheduled appointment. This question is relevant within the context of medical clinics, as improving appointment attendance can lead to more efficient use of resources and better patient outcomes. \n",
    "\n",
    "By exploring the relationship between text message reminders and appointment attendance, the project can provide valuable insights that can inform patient outreach and appointment scheduling strategies. The significance of this research lies in its potential to improve the quality of healthcare delivery and increase the efficiency of medical clinics.\n"
   ]
  },
  {
   "cell_type": "markdown",
   "id": "b687b6e6-e821-4175-8b61-b151983378aa",
   "metadata": {},
   "source": [
    "## Context\n",
    "\n",
    "I have selected this topic for analysis due to my previous experience as a licensed vocational nurse. I worked in a public health clinic for the Department of Health Services in Los Angeles County. Non-attendance at appointments poses challenges for both patients and providers. \n",
    "\n",
    "For patients, missed appointments result in a delay in care and can escalate preventable illnesses to higher levels of care, such as Urgent Care or the Emergency room, resulting in increased costs. \n",
    "\n",
    "At the clinic where I worked, appointments were frequently booked out three months in advance, leading to further delays in care if an appointment was missed.\n",
    "\n",
    "From the provider's perspective, appointments are usually scheduled back-to-back to maximize the provider's time. A missed appointment means lost time that could have been used to treat another patient. This time cannot be recovered. \n",
    "\n",
    "Patients who have missed appointments frequently run over their allotted time during their rescheduled appointments, causing delays for the provider and other patients. To prevent scheduling gaps due to missed appointments, schedulers often overbook appointments. This can lead to issues when all patients attend their scheduled appointments, as the provider may have to shorten appointments, run late, or miss lunch.\n",
    "\n",
    "Therefore, it is in our best interest to prevent missed appointments whenever possible, rather than just compensate for them. The prediction of the rate of missed appointments could help inform the extent to which appointments could be double-booked. I am particularly interested in exploring whether sending text messages before appointments can reduce the number of missed appointments.\n",
    "\n"
   ]
  },
  {
   "cell_type": "markdown",
   "id": "3d15b49d-8e93-4256-84c2-0d883b8b2964",
   "metadata": {},
   "source": [
    "## Dataset \n",
    "\n",
    "https://www.kaggle.com/datasets/joniarroba/noshowappointments"
   ]
  },
  {
   "cell_type": "markdown",
   "id": "75d04dd0-83ff-42ce-97ab-f14618110fae",
   "metadata": {},
   "source": [
    "## Hypothesis\n",
    "The hypothesis/need identified in A1 is to determine if there is a relationship between receiving a text message reminder and reducing \"no-shows\" for appointments.\n",
    "\n",
    "The null hypothesis is that there is no relationship between receiving a text message reminder and reducing \"no-shows\" for appointments.\n",
    "\n",
    "The alternative hypothesis is that there is a relationship between receiving a text message reminder and reducing \"no-shows\" for appointments.\n"
   ]
  },
  {
   "cell_type": "markdown",
   "id": "3da87167-1582-4950-a90c-420d87d289ad",
   "metadata": {},
   "source": [
    "### Import Packages"
   ]
  },
  {
   "cell_type": "code",
   "execution_count": 321,
   "id": "cf0a7fa2-d3a9-4434-b6b8-f663a682c60b",
   "metadata": {},
   "outputs": [],
   "source": [
    "import matplotlib.pyplot as plt\n",
    "import pandas as pd\n",
    "import numpy as np\n",
    "import statsmodels.api as sm\n",
    "import seaborn as sns\n",
    "sns.set(style=\"darkgrid\")\n",
    "\n",
    "%matplotlib inline"
   ]
  },
  {
   "cell_type": "markdown",
   "id": "a648bf11-be8b-46f3-b88b-bd60d04b93c9",
   "metadata": {},
   "source": [
    "### Functions"
   ]
  },
  {
   "cell_type": "code",
   "execution_count": 322,
   "id": "15c978f6-797a-4dbe-8c46-0f3d8bfea3aa",
   "metadata": {},
   "outputs": [],
   "source": [
    "def dtconversion(df):\n",
    "    #Changing all values of -1 in DaysBetween with 0\n",
    "    df['ScheduledDay'] = pd.to_datetime(df['ScheduledDay'], format='%Y-%m-%d')\n",
    "    df['AppointmentDay'] = pd.to_datetime(df['AppointmentDay'], format='%Y-%m-%d')\n",
    "    df['DaysBetween'] = (df['AppointmentDay'] - df['ScheduledDay']).dt.days\n",
    "    df['DaysBetween'] = df['DaysBetween'].clip(lower=0)\n",
    "    return df.head()\n",
    "\n",
    "\n"
   ]
  },
  {
   "cell_type": "code",
   "execution_count": 323,
   "id": "9796801e-2f9f-4cbe-b3d7-3890bc57761b",
   "metadata": {},
   "outputs": [],
   "source": [
    "def noshowchart(df):\n",
    "    \n",
    "    # Set the main color\n",
    "    main_color = sns.color_palette('bwr')\n",
    "    sns.set_palette(main_color)\n",
    "\n",
    "    # Plot the count of patients who showed up or didn't show up based on whether they received a text message or not\n",
    "    sns.countplot(x='NoShow', hue='TextReceived', data=df)\n",
    "\n",
    "    # Add titles for x and y axis\n",
    "    plt.xlabel('Was the patient a No Show?')\n",
    "    plt.ylabel('Count')\n",
    "\n",
    "    # Change the labels for the legend\n",
    "    plt.legend(labels=['Text Not Received', 'Text Received'])\n",
    "\n",
    "    # Replace 0 and 1 with 'Showed' and 'No Show'\n",
    "    plt.xticks([0,1], ['Showed', 'No Show'])\n",
    "\n",
    "    # Show the plot\n",
    "    plt.show()"
   ]
  },
  {
   "cell_type": "markdown",
   "id": "66731ce6-b15b-4973-b7b4-9e150d807c33",
   "metadata": {},
   "source": [
    "## Data Wrangling\n",
    "<br>\n",
    "\n",
    "    "
   ]
  },
  {
   "cell_type": "markdown",
   "id": "a9e7accd-213e-48bf-8c47-1f62752d129a",
   "metadata": {},
   "source": [
    "### Importing Data Set<br>"
   ]
  },
  {
   "cell_type": "code",
   "execution_count": 324,
   "id": "dd924a3d-e82d-4a1b-809e-305bc22e0d32",
   "metadata": {},
   "outputs": [],
   "source": [
    "#Importing dataset from kaggle and opening in pandas\n",
    "\n",
    "df = pd.read_csv(\"KaggleV2-May-2016.csv\")"
   ]
  },
  {
   "cell_type": "code",
   "execution_count": 325,
   "id": "00e8bf76-ed81-4f04-a2d5-025740dc6fd5",
   "metadata": {},
   "outputs": [
    {
     "data": {
      "text/html": [
       "<div>\n",
       "<style scoped>\n",
       "    .dataframe tbody tr th:only-of-type {\n",
       "        vertical-align: middle;\n",
       "    }\n",
       "\n",
       "    .dataframe tbody tr th {\n",
       "        vertical-align: top;\n",
       "    }\n",
       "\n",
       "    .dataframe thead th {\n",
       "        text-align: right;\n",
       "    }\n",
       "</style>\n",
       "<table border=\"1\" class=\"dataframe\">\n",
       "  <thead>\n",
       "    <tr style=\"text-align: right;\">\n",
       "      <th></th>\n",
       "      <th>PatientId</th>\n",
       "      <th>AppointmentID</th>\n",
       "      <th>Gender</th>\n",
       "      <th>ScheduledDay</th>\n",
       "      <th>AppointmentDay</th>\n",
       "      <th>Age</th>\n",
       "      <th>Neighbourhood</th>\n",
       "      <th>Scholarship</th>\n",
       "      <th>Hipertension</th>\n",
       "      <th>Diabetes</th>\n",
       "      <th>Alcoholism</th>\n",
       "      <th>Handcap</th>\n",
       "      <th>SMS_received</th>\n",
       "      <th>No-show</th>\n",
       "    </tr>\n",
       "  </thead>\n",
       "  <tbody>\n",
       "    <tr>\n",
       "      <th>0</th>\n",
       "      <td>2.987250e+13</td>\n",
       "      <td>5642903</td>\n",
       "      <td>F</td>\n",
       "      <td>2016-04-29T18:38:08Z</td>\n",
       "      <td>2016-04-29T00:00:00Z</td>\n",
       "      <td>62</td>\n",
       "      <td>JARDIM DA PENHA</td>\n",
       "      <td>0</td>\n",
       "      <td>1</td>\n",
       "      <td>0</td>\n",
       "      <td>0</td>\n",
       "      <td>0</td>\n",
       "      <td>0</td>\n",
       "      <td>No</td>\n",
       "    </tr>\n",
       "    <tr>\n",
       "      <th>1</th>\n",
       "      <td>5.589978e+14</td>\n",
       "      <td>5642503</td>\n",
       "      <td>M</td>\n",
       "      <td>2016-04-29T16:08:27Z</td>\n",
       "      <td>2016-04-29T00:00:00Z</td>\n",
       "      <td>56</td>\n",
       "      <td>JARDIM DA PENHA</td>\n",
       "      <td>0</td>\n",
       "      <td>0</td>\n",
       "      <td>0</td>\n",
       "      <td>0</td>\n",
       "      <td>0</td>\n",
       "      <td>0</td>\n",
       "      <td>No</td>\n",
       "    </tr>\n",
       "    <tr>\n",
       "      <th>2</th>\n",
       "      <td>4.262962e+12</td>\n",
       "      <td>5642549</td>\n",
       "      <td>F</td>\n",
       "      <td>2016-04-29T16:19:04Z</td>\n",
       "      <td>2016-04-29T00:00:00Z</td>\n",
       "      <td>62</td>\n",
       "      <td>MATA DA PRAIA</td>\n",
       "      <td>0</td>\n",
       "      <td>0</td>\n",
       "      <td>0</td>\n",
       "      <td>0</td>\n",
       "      <td>0</td>\n",
       "      <td>0</td>\n",
       "      <td>No</td>\n",
       "    </tr>\n",
       "    <tr>\n",
       "      <th>3</th>\n",
       "      <td>8.679512e+11</td>\n",
       "      <td>5642828</td>\n",
       "      <td>F</td>\n",
       "      <td>2016-04-29T17:29:31Z</td>\n",
       "      <td>2016-04-29T00:00:00Z</td>\n",
       "      <td>8</td>\n",
       "      <td>PONTAL DE CAMBURI</td>\n",
       "      <td>0</td>\n",
       "      <td>0</td>\n",
       "      <td>0</td>\n",
       "      <td>0</td>\n",
       "      <td>0</td>\n",
       "      <td>0</td>\n",
       "      <td>No</td>\n",
       "    </tr>\n",
       "    <tr>\n",
       "      <th>4</th>\n",
       "      <td>8.841186e+12</td>\n",
       "      <td>5642494</td>\n",
       "      <td>F</td>\n",
       "      <td>2016-04-29T16:07:23Z</td>\n",
       "      <td>2016-04-29T00:00:00Z</td>\n",
       "      <td>56</td>\n",
       "      <td>JARDIM DA PENHA</td>\n",
       "      <td>0</td>\n",
       "      <td>1</td>\n",
       "      <td>1</td>\n",
       "      <td>0</td>\n",
       "      <td>0</td>\n",
       "      <td>0</td>\n",
       "      <td>No</td>\n",
       "    </tr>\n",
       "  </tbody>\n",
       "</table>\n",
       "</div>"
      ],
      "text/plain": [
       "      PatientId  AppointmentID Gender          ScheduledDay  \\\n",
       "0  2.987250e+13        5642903      F  2016-04-29T18:38:08Z   \n",
       "1  5.589978e+14        5642503      M  2016-04-29T16:08:27Z   \n",
       "2  4.262962e+12        5642549      F  2016-04-29T16:19:04Z   \n",
       "3  8.679512e+11        5642828      F  2016-04-29T17:29:31Z   \n",
       "4  8.841186e+12        5642494      F  2016-04-29T16:07:23Z   \n",
       "\n",
       "         AppointmentDay  Age      Neighbourhood  Scholarship  Hipertension  \\\n",
       "0  2016-04-29T00:00:00Z   62    JARDIM DA PENHA            0             1   \n",
       "1  2016-04-29T00:00:00Z   56    JARDIM DA PENHA            0             0   \n",
       "2  2016-04-29T00:00:00Z   62      MATA DA PRAIA            0             0   \n",
       "3  2016-04-29T00:00:00Z    8  PONTAL DE CAMBURI            0             0   \n",
       "4  2016-04-29T00:00:00Z   56    JARDIM DA PENHA            0             1   \n",
       "\n",
       "   Diabetes  Alcoholism  Handcap  SMS_received No-show  \n",
       "0         0           0        0             0      No  \n",
       "1         0           0        0             0      No  \n",
       "2         0           0        0             0      No  \n",
       "3         0           0        0             0      No  \n",
       "4         1           0        0             0      No  "
      ]
     },
     "execution_count": 325,
     "metadata": {},
     "output_type": "execute_result"
    }
   ],
   "source": [
    "#Inspecting first 5 rows to ensure the dataframe was created correctly\n",
    "df.head()"
   ]
  },
  {
   "cell_type": "code",
   "execution_count": 326,
   "id": "13eeb641-88c5-45b9-8cb9-866ecea1ec81",
   "metadata": {},
   "outputs": [
    {
     "name": "stdout",
     "output_type": "stream",
     "text": [
      "<class 'pandas.core.frame.DataFrame'>\n",
      "RangeIndex: 110527 entries, 0 to 110526\n",
      "Data columns (total 14 columns):\n",
      " #   Column          Non-Null Count   Dtype  \n",
      "---  ------          --------------   -----  \n",
      " 0   PatientId       110527 non-null  float64\n",
      " 1   AppointmentID   110527 non-null  int64  \n",
      " 2   Gender          110527 non-null  object \n",
      " 3   ScheduledDay    110527 non-null  object \n",
      " 4   AppointmentDay  110527 non-null  object \n",
      " 5   Age             110527 non-null  int64  \n",
      " 6   Neighbourhood   110527 non-null  object \n",
      " 7   Scholarship     110527 non-null  int64  \n",
      " 8   Hipertension    110527 non-null  int64  \n",
      " 9   Diabetes        110527 non-null  int64  \n",
      " 10  Alcoholism      110527 non-null  int64  \n",
      " 11  Handcap         110527 non-null  int64  \n",
      " 12  SMS_received    110527 non-null  int64  \n",
      " 13  No-show         110527 non-null  object \n",
      "dtypes: float64(1), int64(8), object(5)\n",
      "memory usage: 11.8+ MB\n"
     ]
    }
   ],
   "source": [
    "#Inspecting Columsns and shape of dataframe\n",
    "df.info()"
   ]
  },
  {
   "cell_type": "code",
   "execution_count": 327,
   "id": "db260d10-eea1-48f8-abf8-c29c6436617d",
   "metadata": {},
   "outputs": [
    {
     "data": {
      "text/html": [
       "<div>\n",
       "<style scoped>\n",
       "    .dataframe tbody tr th:only-of-type {\n",
       "        vertical-align: middle;\n",
       "    }\n",
       "\n",
       "    .dataframe tbody tr th {\n",
       "        vertical-align: top;\n",
       "    }\n",
       "\n",
       "    .dataframe thead th {\n",
       "        text-align: right;\n",
       "    }\n",
       "</style>\n",
       "<table border=\"1\" class=\"dataframe\">\n",
       "  <thead>\n",
       "    <tr style=\"text-align: right;\">\n",
       "      <th></th>\n",
       "      <th>PatientId</th>\n",
       "      <th>AppointmentID</th>\n",
       "      <th>Age</th>\n",
       "      <th>Scholarship</th>\n",
       "      <th>Hipertension</th>\n",
       "      <th>Diabetes</th>\n",
       "      <th>Alcoholism</th>\n",
       "      <th>Handcap</th>\n",
       "      <th>SMS_received</th>\n",
       "    </tr>\n",
       "  </thead>\n",
       "  <tbody>\n",
       "    <tr>\n",
       "      <th>count</th>\n",
       "      <td>1.105270e+05</td>\n",
       "      <td>1.105270e+05</td>\n",
       "      <td>110527.000000</td>\n",
       "      <td>110527.000000</td>\n",
       "      <td>110527.000000</td>\n",
       "      <td>110527.000000</td>\n",
       "      <td>110527.000000</td>\n",
       "      <td>110527.000000</td>\n",
       "      <td>110527.000000</td>\n",
       "    </tr>\n",
       "    <tr>\n",
       "      <th>mean</th>\n",
       "      <td>1.474963e+14</td>\n",
       "      <td>5.675305e+06</td>\n",
       "      <td>37.088874</td>\n",
       "      <td>0.098266</td>\n",
       "      <td>0.197246</td>\n",
       "      <td>0.071865</td>\n",
       "      <td>0.030400</td>\n",
       "      <td>0.022248</td>\n",
       "      <td>0.321026</td>\n",
       "    </tr>\n",
       "    <tr>\n",
       "      <th>std</th>\n",
       "      <td>2.560949e+14</td>\n",
       "      <td>7.129575e+04</td>\n",
       "      <td>23.110205</td>\n",
       "      <td>0.297675</td>\n",
       "      <td>0.397921</td>\n",
       "      <td>0.258265</td>\n",
       "      <td>0.171686</td>\n",
       "      <td>0.161543</td>\n",
       "      <td>0.466873</td>\n",
       "    </tr>\n",
       "    <tr>\n",
       "      <th>min</th>\n",
       "      <td>3.921784e+04</td>\n",
       "      <td>5.030230e+06</td>\n",
       "      <td>-1.000000</td>\n",
       "      <td>0.000000</td>\n",
       "      <td>0.000000</td>\n",
       "      <td>0.000000</td>\n",
       "      <td>0.000000</td>\n",
       "      <td>0.000000</td>\n",
       "      <td>0.000000</td>\n",
       "    </tr>\n",
       "    <tr>\n",
       "      <th>25%</th>\n",
       "      <td>4.172614e+12</td>\n",
       "      <td>5.640286e+06</td>\n",
       "      <td>18.000000</td>\n",
       "      <td>0.000000</td>\n",
       "      <td>0.000000</td>\n",
       "      <td>0.000000</td>\n",
       "      <td>0.000000</td>\n",
       "      <td>0.000000</td>\n",
       "      <td>0.000000</td>\n",
       "    </tr>\n",
       "    <tr>\n",
       "      <th>50%</th>\n",
       "      <td>3.173184e+13</td>\n",
       "      <td>5.680573e+06</td>\n",
       "      <td>37.000000</td>\n",
       "      <td>0.000000</td>\n",
       "      <td>0.000000</td>\n",
       "      <td>0.000000</td>\n",
       "      <td>0.000000</td>\n",
       "      <td>0.000000</td>\n",
       "      <td>0.000000</td>\n",
       "    </tr>\n",
       "    <tr>\n",
       "      <th>75%</th>\n",
       "      <td>9.439172e+13</td>\n",
       "      <td>5.725524e+06</td>\n",
       "      <td>55.000000</td>\n",
       "      <td>0.000000</td>\n",
       "      <td>0.000000</td>\n",
       "      <td>0.000000</td>\n",
       "      <td>0.000000</td>\n",
       "      <td>0.000000</td>\n",
       "      <td>1.000000</td>\n",
       "    </tr>\n",
       "    <tr>\n",
       "      <th>max</th>\n",
       "      <td>9.999816e+14</td>\n",
       "      <td>5.790484e+06</td>\n",
       "      <td>115.000000</td>\n",
       "      <td>1.000000</td>\n",
       "      <td>1.000000</td>\n",
       "      <td>1.000000</td>\n",
       "      <td>1.000000</td>\n",
       "      <td>4.000000</td>\n",
       "      <td>1.000000</td>\n",
       "    </tr>\n",
       "  </tbody>\n",
       "</table>\n",
       "</div>"
      ],
      "text/plain": [
       "          PatientId  AppointmentID            Age    Scholarship  \\\n",
       "count  1.105270e+05   1.105270e+05  110527.000000  110527.000000   \n",
       "mean   1.474963e+14   5.675305e+06      37.088874       0.098266   \n",
       "std    2.560949e+14   7.129575e+04      23.110205       0.297675   \n",
       "min    3.921784e+04   5.030230e+06      -1.000000       0.000000   \n",
       "25%    4.172614e+12   5.640286e+06      18.000000       0.000000   \n",
       "50%    3.173184e+13   5.680573e+06      37.000000       0.000000   \n",
       "75%    9.439172e+13   5.725524e+06      55.000000       0.000000   \n",
       "max    9.999816e+14   5.790484e+06     115.000000       1.000000   \n",
       "\n",
       "        Hipertension       Diabetes     Alcoholism        Handcap  \\\n",
       "count  110527.000000  110527.000000  110527.000000  110527.000000   \n",
       "mean        0.197246       0.071865       0.030400       0.022248   \n",
       "std         0.397921       0.258265       0.171686       0.161543   \n",
       "min         0.000000       0.000000       0.000000       0.000000   \n",
       "25%         0.000000       0.000000       0.000000       0.000000   \n",
       "50%         0.000000       0.000000       0.000000       0.000000   \n",
       "75%         0.000000       0.000000       0.000000       0.000000   \n",
       "max         1.000000       1.000000       1.000000       4.000000   \n",
       "\n",
       "        SMS_received  \n",
       "count  110527.000000  \n",
       "mean        0.321026  \n",
       "std         0.466873  \n",
       "min         0.000000  \n",
       "25%         0.000000  \n",
       "50%         0.000000  \n",
       "75%         1.000000  \n",
       "max         1.000000  "
      ]
     },
     "execution_count": 327,
     "metadata": {},
     "output_type": "execute_result"
    }
   ],
   "source": [
    "#Summarize statistics of DataFrame columns\n",
    "df.describe()\n"
   ]
  },
  {
   "cell_type": "code",
   "execution_count": 328,
   "id": "76aae504-f603-463b-9969-ee02810befc8",
   "metadata": {},
   "outputs": [
    {
     "data": {
      "text/plain": [
       "count    110527.000000\n",
       "mean         37.088874\n",
       "std          23.110205\n",
       "min          -1.000000\n",
       "25%          18.000000\n",
       "50%          37.000000\n",
       "75%          55.000000\n",
       "max         115.000000\n",
       "Name: Age, dtype: float64"
      ]
     },
     "execution_count": 328,
     "metadata": {},
     "output_type": "execute_result"
    }
   ],
   "source": [
    "df['Age'].describe()"
   ]
  },
  {
   "cell_type": "code",
   "execution_count": 329,
   "id": "217a4fa1-d6a5-4354-8d3a-7a83838e7c5e",
   "metadata": {},
   "outputs": [
    {
     "data": {
      "text/plain": [
       "PatientId          62299\n",
       "AppointmentID     110527\n",
       "Gender                 2\n",
       "ScheduledDay      103549\n",
       "AppointmentDay        27\n",
       "Age                  104\n",
       "Neighbourhood         81\n",
       "Scholarship            2\n",
       "Hipertension           2\n",
       "Diabetes               2\n",
       "Alcoholism             2\n",
       "Handcap                5\n",
       "SMS_received           2\n",
       "No-show                2\n",
       "dtype: int64"
      ]
     },
     "execution_count": 329,
     "metadata": {},
     "output_type": "execute_result"
    }
   ],
   "source": [
    "#Checking for unique values\n",
    "df.nunique()"
   ]
  },
  {
   "cell_type": "code",
   "execution_count": 330,
   "id": "631dc81c-6874-49f1-9108-a9b9cafcf36e",
   "metadata": {},
   "outputs": [
    {
     "data": {
      "text/plain": [
       "0"
      ]
     },
     "execution_count": 330,
     "metadata": {},
     "output_type": "execute_result"
    }
   ],
   "source": [
    "#Since AppointmentID will be our PK I am checking to see if there are any duplicate values\n",
    "df['AppointmentID'].duplicated().sum()"
   ]
  },
  {
   "cell_type": "code",
   "execution_count": 331,
   "id": "987f7eb5-29ba-446c-b403-b1f7cb722e56",
   "metadata": {},
   "outputs": [
    {
     "data": {
      "text/plain": [
       "PatientId         0\n",
       "AppointmentID     0\n",
       "Gender            0\n",
       "ScheduledDay      0\n",
       "AppointmentDay    0\n",
       "Age               0\n",
       "Neighbourhood     0\n",
       "Scholarship       0\n",
       "Hipertension      0\n",
       "Diabetes          0\n",
       "Alcoholism        0\n",
       "Handcap           0\n",
       "SMS_received      0\n",
       "No-show           0\n",
       "dtype: int64"
      ]
     },
     "execution_count": 331,
     "metadata": {},
     "output_type": "execute_result"
    }
   ],
   "source": [
    "#Checking for null values\n",
    "df.isnull().sum()"
   ]
  },
  {
   "cell_type": "code",
   "execution_count": 332,
   "id": "619e6be8-a969-4e15-8e3a-bbb0c3347a6f",
   "metadata": {},
   "outputs": [
    {
     "data": {
      "image/png": "[encoded data removed]",
      "text/plain": [
       "<Figure size 1500x1000 with 9 Axes>"
      ]
     },
     "metadata": {},
     "output_type": "display_data"
    }
   ],
   "source": [
    "df.hist(bins=20, figsize=(15,10))\n",
    "plt.tight_layout()\n",
    "plt.show()\n"
   ]
  },
  {
   "cell_type": "markdown",
   "id": "527e8102-b31f-46bb-9920-1f216a65f05a",
   "metadata": {},
   "source": [
    "## Data Cleaning <br>"
   ]
  },
  {
   "cell_type": "markdown",
   "id": "9a8daae0-5370-49ac-9eec-e782b4df124e",
   "metadata": {},
   "source": [
    "#### ScheduledDay and AppointmentDay columns are in object format that needs too be converted to datetime"
   ]
  },
  {
   "cell_type": "code",
   "execution_count": 333,
   "id": "fea8aa45-0f1e-4491-be25-d6fbbf7dd04c",
   "metadata": {},
   "outputs": [
    {
     "data": {
      "text/html": [
       "<div>\n",
       "<style scoped>\n",
       "    .dataframe tbody tr th:only-of-type {\n",
       "        vertical-align: middle;\n",
       "    }\n",
       "\n",
       "    .dataframe tbody tr th {\n",
       "        vertical-align: top;\n",
       "    }\n",
       "\n",
       "    .dataframe thead th {\n",
       "        text-align: right;\n",
       "    }\n",
       "</style>\n",
       "<table border=\"1\" class=\"dataframe\">\n",
       "  <thead>\n",
       "    <tr style=\"text-align: right;\">\n",
       "      <th></th>\n",
       "      <th>PatientId</th>\n",
       "      <th>AppointmentID</th>\n",
       "      <th>Gender</th>\n",
       "      <th>ScheduledDay</th>\n",
       "      <th>AppointmentDay</th>\n",
       "      <th>Age</th>\n",
       "      <th>Neighbourhood</th>\n",
       "      <th>Scholarship</th>\n",
       "      <th>Hipertension</th>\n",
       "      <th>Diabetes</th>\n",
       "      <th>Alcoholism</th>\n",
       "      <th>Handcap</th>\n",
       "      <th>SMS_received</th>\n",
       "      <th>No-show</th>\n",
       "      <th>DaysBetween</th>\n",
       "    </tr>\n",
       "  </thead>\n",
       "  <tbody>\n",
       "    <tr>\n",
       "      <th>0</th>\n",
       "      <td>2.987250e+13</td>\n",
       "      <td>5642903</td>\n",
       "      <td>F</td>\n",
       "      <td>2016-04-29 18:38:08+00:00</td>\n",
       "      <td>2016-04-29 00:00:00+00:00</td>\n",
       "      <td>62</td>\n",
       "      <td>JARDIM DA PENHA</td>\n",
       "      <td>0</td>\n",
       "      <td>1</td>\n",
       "      <td>0</td>\n",
       "      <td>0</td>\n",
       "      <td>0</td>\n",
       "      <td>0</td>\n",
       "      <td>No</td>\n",
       "      <td>0</td>\n",
       "    </tr>\n",
       "    <tr>\n",
       "      <th>1</th>\n",
       "      <td>5.589978e+14</td>\n",
       "      <td>5642503</td>\n",
       "      <td>M</td>\n",
       "      <td>2016-04-29 16:08:27+00:00</td>\n",
       "      <td>2016-04-29 00:00:00+00:00</td>\n",
       "      <td>56</td>\n",
       "      <td>JARDIM DA PENHA</td>\n",
       "      <td>0</td>\n",
       "      <td>0</td>\n",
       "      <td>0</td>\n",
       "      <td>0</td>\n",
       "      <td>0</td>\n",
       "      <td>0</td>\n",
       "      <td>No</td>\n",
       "      <td>0</td>\n",
       "    </tr>\n",
       "    <tr>\n",
       "      <th>2</th>\n",
       "      <td>4.262962e+12</td>\n",
       "      <td>5642549</td>\n",
       "      <td>F</td>\n",
       "      <td>2016-04-29 16:19:04+00:00</td>\n",
       "      <td>2016-04-29 00:00:00+00:00</td>\n",
       "      <td>62</td>\n",
       "      <td>MATA DA PRAIA</td>\n",
       "      <td>0</td>\n",
       "      <td>0</td>\n",
       "      <td>0</td>\n",
       "      <td>0</td>\n",
       "      <td>0</td>\n",
       "      <td>0</td>\n",
       "      <td>No</td>\n",
       "      <td>0</td>\n",
       "    </tr>\n",
       "    <tr>\n",
       "      <th>3</th>\n",
       "      <td>8.679512e+11</td>\n",
       "      <td>5642828</td>\n",
       "      <td>F</td>\n",
       "      <td>2016-04-29 17:29:31+00:00</td>\n",
       "      <td>2016-04-29 00:00:00+00:00</td>\n",
       "      <td>8</td>\n",
       "      <td>PONTAL DE CAMBURI</td>\n",
       "      <td>0</td>\n",
       "      <td>0</td>\n",
       "      <td>0</td>\n",
       "      <td>0</td>\n",
       "      <td>0</td>\n",
       "      <td>0</td>\n",
       "      <td>No</td>\n",
       "      <td>0</td>\n",
       "    </tr>\n",
       "    <tr>\n",
       "      <th>4</th>\n",
       "      <td>8.841186e+12</td>\n",
       "      <td>5642494</td>\n",
       "      <td>F</td>\n",
       "      <td>2016-04-29 16:07:23+00:00</td>\n",
       "      <td>2016-04-29 00:00:00+00:00</td>\n",
       "      <td>56</td>\n",
       "      <td>JARDIM DA PENHA</td>\n",
       "      <td>0</td>\n",
       "      <td>1</td>\n",
       "      <td>1</td>\n",
       "      <td>0</td>\n",
       "      <td>0</td>\n",
       "      <td>0</td>\n",
       "      <td>No</td>\n",
       "      <td>0</td>\n",
       "    </tr>\n",
       "  </tbody>\n",
       "</table>\n",
       "</div>"
      ],
      "text/plain": [
       "      PatientId  AppointmentID Gender              ScheduledDay  \\\n",
       "0  2.987250e+13        5642903      F 2016-04-29 18:38:08+00:00   \n",
       "1  5.589978e+14        5642503      M 2016-04-29 16:08:27+00:00   \n",
       "2  4.262962e+12        5642549      F 2016-04-29 16:19:04+00:00   \n",
       "3  8.679512e+11        5642828      F 2016-04-29 17:29:31+00:00   \n",
       "4  8.841186e+12        5642494      F 2016-04-29 16:07:23+00:00   \n",
       "\n",
       "             AppointmentDay  Age      Neighbourhood  Scholarship  \\\n",
       "0 2016-04-29 00:00:00+00:00   62    JARDIM DA PENHA            0   \n",
       "1 2016-04-29 00:00:00+00:00   56    JARDIM DA PENHA            0   \n",
       "2 2016-04-29 00:00:00+00:00   62      MATA DA PRAIA            0   \n",
       "3 2016-04-29 00:00:00+00:00    8  PONTAL DE CAMBURI            0   \n",
       "4 2016-04-29 00:00:00+00:00   56    JARDIM DA PENHA            0   \n",
       "\n",
       "   Hipertension  Diabetes  Alcoholism  Handcap  SMS_received No-show  \\\n",
       "0             1         0           0        0             0      No   \n",
       "1             0         0           0        0             0      No   \n",
       "2             0         0           0        0             0      No   \n",
       "3             0         0           0        0             0      No   \n",
       "4             1         1           0        0             0      No   \n",
       "\n",
       "   DaysBetween  \n",
       "0            0  \n",
       "1            0  \n",
       "2            0  \n",
       "3            0  \n",
       "4            0  "
      ]
     },
     "execution_count": 333,
     "metadata": {},
     "output_type": "execute_result"
    }
   ],
   "source": [
    "#Convert to datetime\n",
    "#Create DaysBetween column\n",
    "#Remove negative values from DaysBetween column\n",
    "\n",
    "dtconversion(df)\n"
   ]
  },
  {
   "cell_type": "code",
   "execution_count": 334,
   "id": "f6366676-f595-4eba-af81-4fca50c187f3",
   "metadata": {},
   "outputs": [
    {
     "data": {
      "text/plain": [
       "0"
      ]
     },
     "execution_count": 334,
     "metadata": {},
     "output_type": "execute_result"
    }
   ],
   "source": [
    "(df['DaysBetween'] < 0).sum()"
   ]
  },
  {
   "cell_type": "code",
   "execution_count": 335,
   "id": "8005e57a-011e-4082-904b-01f813598b9a",
   "metadata": {},
   "outputs": [
    {
     "name": "stdout",
     "output_type": "stream",
     "text": [
      "<class 'pandas.core.frame.DataFrame'>\n",
      "RangeIndex: 110527 entries, 0 to 110526\n",
      "Data columns (total 15 columns):\n",
      " #   Column          Non-Null Count   Dtype              \n",
      "---  ------          --------------   -----              \n",
      " 0   PatientId       110527 non-null  float64            \n",
      " 1   AppointmentID   110527 non-null  int64              \n",
      " 2   Gender          110527 non-null  object             \n",
      " 3   ScheduledDay    110527 non-null  datetime64[ns, UTC]\n",
      " 4   AppointmentDay  110527 non-null  datetime64[ns, UTC]\n",
      " 5   Age             110527 non-null  int64              \n",
      " 6   Neighbourhood   110527 non-null  object             \n",
      " 7   Scholarship     110527 non-null  int64              \n",
      " 8   Hipertension    110527 non-null  int64              \n",
      " 9   Diabetes        110527 non-null  int64              \n",
      " 10  Alcoholism      110527 non-null  int64              \n",
      " 11  Handcap         110527 non-null  int64              \n",
      " 12  SMS_received    110527 non-null  int64              \n",
      " 13  No-show         110527 non-null  object             \n",
      " 14  DaysBetween     110527 non-null  int64              \n",
      "dtypes: datetime64[ns, UTC](2), float64(1), int64(9), object(3)\n",
      "memory usage: 12.6+ MB\n"
     ]
    }
   ],
   "source": [
    "#Verify that the datatype has been changed to datetime\n",
    "df.info()"
   ]
  },
  {
   "cell_type": "markdown",
   "id": "dba0758d-e1af-4d50-8ad0-31589be288c7",
   "metadata": {},
   "source": [
    "#### Deal with Outliers in Age"
   ]
  },
  {
   "cell_type": "code",
   "execution_count": 336,
   "id": "edc2b611-1e8b-485e-bd43-f0a3739d2f12",
   "metadata": {},
   "outputs": [],
   "source": [
    "# Find the rows with age greater than 100\n",
    "outliers_above_100 = df[df['Age'] > 100]\n",
    "\n",
    "# Find the rows with age less than 0\n",
    "outliers_below_0 = df[df['Age'] < 0]\n",
    "\n",
    "# Combine the two datasets if needed\n",
    "outliers_age = pd.concat([outliers_above_100, outliers_below_0])\n"
   ]
  },
  {
   "cell_type": "code",
   "execution_count": 337,
   "id": "40a1e552-9edc-43ec-a3c0-908d8b20c1cb",
   "metadata": {},
   "outputs": [
    {
     "data": {
      "text/html": [
       "<div>\n",
       "<style scoped>\n",
       "    .dataframe tbody tr th:only-of-type {\n",
       "        vertical-align: middle;\n",
       "    }\n",
       "\n",
       "    .dataframe tbody tr th {\n",
       "        vertical-align: top;\n",
       "    }\n",
       "\n",
       "    .dataframe thead th {\n",
       "        text-align: right;\n",
       "    }\n",
       "</style>\n",
       "<table border=\"1\" class=\"dataframe\">\n",
       "  <thead>\n",
       "    <tr style=\"text-align: right;\">\n",
       "      <th></th>\n",
       "      <th>PatientId</th>\n",
       "      <th>AppointmentID</th>\n",
       "      <th>Gender</th>\n",
       "      <th>ScheduledDay</th>\n",
       "      <th>AppointmentDay</th>\n",
       "      <th>Age</th>\n",
       "      <th>Neighbourhood</th>\n",
       "      <th>Scholarship</th>\n",
       "      <th>Hipertension</th>\n",
       "      <th>Diabetes</th>\n",
       "      <th>Alcoholism</th>\n",
       "      <th>Handcap</th>\n",
       "      <th>SMS_received</th>\n",
       "      <th>No-show</th>\n",
       "      <th>DaysBetween</th>\n",
       "    </tr>\n",
       "  </thead>\n",
       "  <tbody>\n",
       "    <tr>\n",
       "      <th>58014</th>\n",
       "      <td>9.762948e+14</td>\n",
       "      <td>5651757</td>\n",
       "      <td>F</td>\n",
       "      <td>2016-05-03 09:14:53+00:00</td>\n",
       "      <td>2016-05-03 00:00:00+00:00</td>\n",
       "      <td>102</td>\n",
       "      <td>CONQUISTA</td>\n",
       "      <td>0</td>\n",
       "      <td>0</td>\n",
       "      <td>0</td>\n",
       "      <td>0</td>\n",
       "      <td>0</td>\n",
       "      <td>0</td>\n",
       "      <td>No</td>\n",
       "      <td>0</td>\n",
       "    </tr>\n",
       "    <tr>\n",
       "      <th>63912</th>\n",
       "      <td>3.196321e+13</td>\n",
       "      <td>5700278</td>\n",
       "      <td>F</td>\n",
       "      <td>2016-05-16 09:17:44+00:00</td>\n",
       "      <td>2016-05-19 00:00:00+00:00</td>\n",
       "      <td>115</td>\n",
       "      <td>ANDORINHAS</td>\n",
       "      <td>0</td>\n",
       "      <td>0</td>\n",
       "      <td>0</td>\n",
       "      <td>0</td>\n",
       "      <td>1</td>\n",
       "      <td>0</td>\n",
       "      <td>Yes</td>\n",
       "      <td>2</td>\n",
       "    </tr>\n",
       "    <tr>\n",
       "      <th>63915</th>\n",
       "      <td>3.196321e+13</td>\n",
       "      <td>5700279</td>\n",
       "      <td>F</td>\n",
       "      <td>2016-05-16 09:17:44+00:00</td>\n",
       "      <td>2016-05-19 00:00:00+00:00</td>\n",
       "      <td>115</td>\n",
       "      <td>ANDORINHAS</td>\n",
       "      <td>0</td>\n",
       "      <td>0</td>\n",
       "      <td>0</td>\n",
       "      <td>0</td>\n",
       "      <td>1</td>\n",
       "      <td>0</td>\n",
       "      <td>Yes</td>\n",
       "      <td>2</td>\n",
       "    </tr>\n",
       "    <tr>\n",
       "      <th>68127</th>\n",
       "      <td>3.196321e+13</td>\n",
       "      <td>5562812</td>\n",
       "      <td>F</td>\n",
       "      <td>2016-04-08 14:29:17+00:00</td>\n",
       "      <td>2016-05-16 00:00:00+00:00</td>\n",
       "      <td>115</td>\n",
       "      <td>ANDORINHAS</td>\n",
       "      <td>0</td>\n",
       "      <td>0</td>\n",
       "      <td>0</td>\n",
       "      <td>0</td>\n",
       "      <td>1</td>\n",
       "      <td>0</td>\n",
       "      <td>Yes</td>\n",
       "      <td>37</td>\n",
       "    </tr>\n",
       "    <tr>\n",
       "      <th>76284</th>\n",
       "      <td>3.196321e+13</td>\n",
       "      <td>5744037</td>\n",
       "      <td>F</td>\n",
       "      <td>2016-05-30 09:44:51+00:00</td>\n",
       "      <td>2016-05-30 00:00:00+00:00</td>\n",
       "      <td>115</td>\n",
       "      <td>ANDORINHAS</td>\n",
       "      <td>0</td>\n",
       "      <td>0</td>\n",
       "      <td>0</td>\n",
       "      <td>0</td>\n",
       "      <td>1</td>\n",
       "      <td>0</td>\n",
       "      <td>No</td>\n",
       "      <td>0</td>\n",
       "    </tr>\n",
       "    <tr>\n",
       "      <th>90372</th>\n",
       "      <td>2.342836e+11</td>\n",
       "      <td>5751563</td>\n",
       "      <td>F</td>\n",
       "      <td>2016-05-31 10:19:49+00:00</td>\n",
       "      <td>2016-06-02 00:00:00+00:00</td>\n",
       "      <td>102</td>\n",
       "      <td>MARIA ORTIZ</td>\n",
       "      <td>0</td>\n",
       "      <td>0</td>\n",
       "      <td>0</td>\n",
       "      <td>0</td>\n",
       "      <td>0</td>\n",
       "      <td>0</td>\n",
       "      <td>No</td>\n",
       "      <td>1</td>\n",
       "    </tr>\n",
       "    <tr>\n",
       "      <th>97666</th>\n",
       "      <td>7.482346e+14</td>\n",
       "      <td>5717451</td>\n",
       "      <td>F</td>\n",
       "      <td>2016-05-19 07:57:56+00:00</td>\n",
       "      <td>2016-06-03 00:00:00+00:00</td>\n",
       "      <td>115</td>\n",
       "      <td>SÃO JOSÉ</td>\n",
       "      <td>0</td>\n",
       "      <td>1</td>\n",
       "      <td>0</td>\n",
       "      <td>0</td>\n",
       "      <td>0</td>\n",
       "      <td>1</td>\n",
       "      <td>No</td>\n",
       "      <td>14</td>\n",
       "    </tr>\n",
       "    <tr>\n",
       "      <th>99832</th>\n",
       "      <td>4.659432e+14</td>\n",
       "      <td>5775010</td>\n",
       "      <td>F</td>\n",
       "      <td>2016-06-06 08:58:13+00:00</td>\n",
       "      <td>2016-06-06 00:00:00+00:00</td>\n",
       "      <td>-1</td>\n",
       "      <td>ROMÃO</td>\n",
       "      <td>0</td>\n",
       "      <td>0</td>\n",
       "      <td>0</td>\n",
       "      <td>0</td>\n",
       "      <td>0</td>\n",
       "      <td>0</td>\n",
       "      <td>No</td>\n",
       "      <td>0</td>\n",
       "    </tr>\n",
       "  </tbody>\n",
       "</table>\n",
       "</div>"
      ],
      "text/plain": [
       "          PatientId  AppointmentID Gender              ScheduledDay  \\\n",
       "58014  9.762948e+14        5651757      F 2016-05-03 09:14:53+00:00   \n",
       "63912  3.196321e+13        5700278      F 2016-05-16 09:17:44+00:00   \n",
       "63915  3.196321e+13        5700279      F 2016-05-16 09:17:44+00:00   \n",
       "68127  3.196321e+13        5562812      F 2016-04-08 14:29:17+00:00   \n",
       "76284  3.196321e+13        5744037      F 2016-05-30 09:44:51+00:00   \n",
       "90372  2.342836e+11        5751563      F 2016-05-31 10:19:49+00:00   \n",
       "97666  7.482346e+14        5717451      F 2016-05-19 07:57:56+00:00   \n",
       "99832  4.659432e+14        5775010      F 2016-06-06 08:58:13+00:00   \n",
       "\n",
       "                 AppointmentDay  Age Neighbourhood  Scholarship  Hipertension  \\\n",
       "58014 2016-05-03 00:00:00+00:00  102     CONQUISTA            0             0   \n",
       "63912 2016-05-19 00:00:00+00:00  115    ANDORINHAS            0             0   \n",
       "63915 2016-05-19 00:00:00+00:00  115    ANDORINHAS            0             0   \n",
       "68127 2016-05-16 00:00:00+00:00  115    ANDORINHAS            0             0   \n",
       "76284 2016-05-30 00:00:00+00:00  115    ANDORINHAS            0             0   \n",
       "90372 2016-06-02 00:00:00+00:00  102   MARIA ORTIZ            0             0   \n",
       "97666 2016-06-03 00:00:00+00:00  115      SÃO JOSÉ            0             1   \n",
       "99832 2016-06-06 00:00:00+00:00   -1         ROMÃO            0             0   \n",
       "\n",
       "       Diabetes  Alcoholism  Handcap  SMS_received No-show  DaysBetween  \n",
       "58014         0           0        0             0      No            0  \n",
       "63912         0           0        1             0     Yes            2  \n",
       "63915         0           0        1             0     Yes            2  \n",
       "68127         0           0        1             0     Yes           37  \n",
       "76284         0           0        1             0      No            0  \n",
       "90372         0           0        0             0      No            1  \n",
       "97666         0           0        0             1      No           14  \n",
       "99832         0           0        0             0      No            0  "
      ]
     },
     "execution_count": 337,
     "metadata": {},
     "output_type": "execute_result"
    }
   ],
   "source": [
    "outliers_age"
   ]
  },
  {
   "cell_type": "code",
   "execution_count": 338,
   "id": "9ac2709b-df65-4a46-ac86-5410e2a81603",
   "metadata": {},
   "outputs": [
    {
     "name": "stdout",
     "output_type": "stream",
     "text": [
      "<class 'pandas.core.frame.DataFrame'>\n",
      "Int64Index: 8 entries, 58014 to 99832\n",
      "Data columns (total 15 columns):\n",
      " #   Column          Non-Null Count  Dtype              \n",
      "---  ------          --------------  -----              \n",
      " 0   PatientId       8 non-null      float64            \n",
      " 1   AppointmentID   8 non-null      int64              \n",
      " 2   Gender          8 non-null      object             \n",
      " 3   ScheduledDay    8 non-null      datetime64[ns, UTC]\n",
      " 4   AppointmentDay  8 non-null      datetime64[ns, UTC]\n",
      " 5   Age             8 non-null      int64              \n",
      " 6   Neighbourhood   8 non-null      object             \n",
      " 7   Scholarship     8 non-null      int64              \n",
      " 8   Hipertension    8 non-null      int64              \n",
      " 9   Diabetes        8 non-null      int64              \n",
      " 10  Alcoholism      8 non-null      int64              \n",
      " 11  Handcap         8 non-null      int64              \n",
      " 12  SMS_received    8 non-null      int64              \n",
      " 13  No-show         8 non-null      object             \n",
      " 14  DaysBetween     8 non-null      int64              \n",
      "dtypes: datetime64[ns, UTC](2), float64(1), int64(9), object(3)\n",
      "memory usage: 1.0+ KB\n"
     ]
    }
   ],
   "source": [
    "outliers_age.info()"
   ]
  },
  {
   "cell_type": "code",
   "execution_count": 339,
   "id": "a9f06b53-05e4-4764-b66d-ef880e226382",
   "metadata": {},
   "outputs": [],
   "source": [
    "# Calculate the mean of age column\n",
    "mean_age = df[\"Age\"].mean()\n",
    "\n",
    "# Replace the ages less than zero and greater than or equal to 115 with the mean_age\n",
    "df['Age'] = df['Age'].where((df['Age'] > 0) & (df['Age'] < 115), mean_age)\n"
   ]
  },
  {
   "cell_type": "code",
   "execution_count": 340,
   "id": "c1e8607a-54f3-4732-bb59-c1e4d3a68ce1",
   "metadata": {},
   "outputs": [
    {
     "data": {
      "image/png": "[encoded data removed]",
      "text/plain": [
       "<Figure size 640x480 with 1 Axes>"
      ]
     },
     "metadata": {},
     "output_type": "display_data"
    }
   ],
   "source": [
    "# Visualize a histogram of the \"Age\" column\n",
    "import matplotlib.pyplot as plt\n",
    "df['Age'].plot.hist()\n",
    "plt.show()"
   ]
  },
  {
   "cell_type": "markdown",
   "id": "9a8b1eec-0cd3-48d2-97e9-35806e2b0976",
   "metadata": {},
   "source": [
    "#### For the No Show column a no show (missed appointment) is represented as a Yes or No. I need to change this to binary in order to run calculations later on"
   ]
  },
  {
   "cell_type": "code",
   "execution_count": 341,
   "id": "66e31de4-1ad4-4db8-b0ef-7c5494ae6a1f",
   "metadata": {},
   "outputs": [],
   "source": [
    "# Replace No-show values\n",
    "df['No-show'].replace({'Yes': 1, 'No': 0}, inplace=True)"
   ]
  },
  {
   "cell_type": "code",
   "execution_count": 342,
   "id": "61bd2913-bc50-426c-8a08-4d2f3c852e91",
   "metadata": {},
   "outputs": [
    {
     "data": {
      "text/plain": [
       "23969    1\n",
       "26613    0\n",
       "8980     0\n",
       "6847     0\n",
       "76905    0\n",
       "15993    0\n",
       "20835    0\n",
       "43675    1\n",
       "77271    0\n",
       "56973    0\n",
       "Name: No-show, dtype: int64"
      ]
     },
     "execution_count": 342,
     "metadata": {},
     "output_type": "execute_result"
    }
   ],
   "source": [
    "df['No-show'].sample(10)"
   ]
  },
  {
   "cell_type": "code",
   "execution_count": 343,
   "id": "cb4e0db7-7731-4b49-a8da-bdc3ebc0f162",
   "metadata": {},
   "outputs": [
    {
     "data": {
      "text/plain": [
       "0    88208\n",
       "1    22319\n",
       "Name: No-show, dtype: int64"
      ]
     },
     "execution_count": 343,
     "metadata": {},
     "output_type": "execute_result"
    }
   ],
   "source": [
    "df['No-show'].value_counts()"
   ]
  },
  {
   "cell_type": "code",
   "execution_count": 344,
   "id": "42940c83-4e4c-42ac-a5f9-6dbb8b9154c4",
   "metadata": {},
   "outputs": [],
   "source": [
    "# list of columns to be removed\n",
    "cols_to_remove = ['PatientId', 'AppointmentID', 'Neighbourhood', 'Scholarship', 'Hipertension', 'Diabetes', 'Alcoholism', 'Handcap']\n",
    "\n",
    "# remove the columns\n",
    "df.drop(columns=cols_to_remove, inplace=True)\n",
    "\n"
   ]
  },
  {
   "cell_type": "code",
   "execution_count": 345,
   "id": "3ba7da5c-c1b6-4cf9-b2e1-ce6a98172cef",
   "metadata": {},
   "outputs": [],
   "source": [
    "df.rename(columns={'SMS_received': 'TextReceived', 'No-show': 'NoShow'}, inplace=True)\n"
   ]
  },
  {
   "cell_type": "code",
   "execution_count": 346,
   "id": "fba7badc-a4e9-4ea7-bcc4-a22cc1a31140",
   "metadata": {},
   "outputs": [
    {
     "data": {
      "text/plain": [
       "Index(['Gender', 'ScheduledDay', 'AppointmentDay', 'Age', 'TextReceived',\n",
       "       'NoShow', 'DaysBetween'],\n",
       "      dtype='object')"
      ]
     },
     "execution_count": 346,
     "metadata": {},
     "output_type": "execute_result"
    }
   ],
   "source": [
    "df.columns"
   ]
  },
  {
   "cell_type": "code",
   "execution_count": 347,
   "id": "42f7f209-40b0-4e43-ba00-c13b910a65f0",
   "metadata": {},
   "outputs": [],
   "source": [
    "#Save cleaned dataframe as no_show_cleaned.csv\n",
    "df.to_csv(\"no_show_cleaned.csv\", index=False)\n"
   ]
  },
  {
   "cell_type": "markdown",
   "id": "0975c8e0-0764-4261-bc9b-53be5f544a43",
   "metadata": {},
   "source": [
    "## Exploratory Data Analysis\n"
   ]
  },
  {
   "cell_type": "code",
   "execution_count": 348,
   "id": "53aca307-0f38-4717-a8f6-842469a4de16",
   "metadata": {},
   "outputs": [],
   "source": [
    "#Reopen cleaned file as a new dataframe\n",
    "clean = pd.read_csv(\"no_show_cleaned.csv\")\n"
   ]
  },
  {
   "cell_type": "code",
   "execution_count": 349,
   "id": "bff18550-0f11-43cc-9138-d29840a90ce0",
   "metadata": {},
   "outputs": [
    {
     "data": {
      "text/html": [
       "<div>\n",
       "<style scoped>\n",
       "    .dataframe tbody tr th:only-of-type {\n",
       "        vertical-align: middle;\n",
       "    }\n",
       "\n",
       "    .dataframe tbody tr th {\n",
       "        vertical-align: top;\n",
       "    }\n",
       "\n",
       "    .dataframe thead th {\n",
       "        text-align: right;\n",
       "    }\n",
       "</style>\n",
       "<table border=\"1\" class=\"dataframe\">\n",
       "  <thead>\n",
       "    <tr style=\"text-align: right;\">\n",
       "      <th></th>\n",
       "      <th>Gender</th>\n",
       "      <th>ScheduledDay</th>\n",
       "      <th>AppointmentDay</th>\n",
       "      <th>Age</th>\n",
       "      <th>TextReceived</th>\n",
       "      <th>NoShow</th>\n",
       "      <th>DaysBetween</th>\n",
       "    </tr>\n",
       "  </thead>\n",
       "  <tbody>\n",
       "    <tr>\n",
       "      <th>49546</th>\n",
       "      <td>F</td>\n",
       "      <td>2016-04-11 14:40:02+00:00</td>\n",
       "      <td>2016-05-09 00:00:00+00:00</td>\n",
       "      <td>37.088874</td>\n",
       "      <td>0</td>\n",
       "      <td>0</td>\n",
       "      <td>27</td>\n",
       "    </tr>\n",
       "    <tr>\n",
       "      <th>73014</th>\n",
       "      <td>M</td>\n",
       "      <td>2016-05-13 08:10:36+00:00</td>\n",
       "      <td>2016-05-30 00:00:00+00:00</td>\n",
       "      <td>24.000000</td>\n",
       "      <td>1</td>\n",
       "      <td>0</td>\n",
       "      <td>16</td>\n",
       "    </tr>\n",
       "    <tr>\n",
       "      <th>45053</th>\n",
       "      <td>M</td>\n",
       "      <td>2016-04-28 08:44:59+00:00</td>\n",
       "      <td>2016-05-11 00:00:00+00:00</td>\n",
       "      <td>61.000000</td>\n",
       "      <td>1</td>\n",
       "      <td>0</td>\n",
       "      <td>12</td>\n",
       "    </tr>\n",
       "    <tr>\n",
       "      <th>70483</th>\n",
       "      <td>M</td>\n",
       "      <td>2016-05-09 15:29:13+00:00</td>\n",
       "      <td>2016-05-09 00:00:00+00:00</td>\n",
       "      <td>37.088874</td>\n",
       "      <td>0</td>\n",
       "      <td>0</td>\n",
       "      <td>0</td>\n",
       "    </tr>\n",
       "    <tr>\n",
       "      <th>73055</th>\n",
       "      <td>F</td>\n",
       "      <td>2016-05-06 08:24:17+00:00</td>\n",
       "      <td>2016-05-11 00:00:00+00:00</td>\n",
       "      <td>8.000000</td>\n",
       "      <td>1</td>\n",
       "      <td>0</td>\n",
       "      <td>4</td>\n",
       "    </tr>\n",
       "  </tbody>\n",
       "</table>\n",
       "</div>"
      ],
      "text/plain": [
       "      Gender               ScheduledDay             AppointmentDay        Age  \\\n",
       "49546      F  2016-04-11 14:40:02+00:00  2016-05-09 00:00:00+00:00  37.088874   \n",
       "73014      M  2016-05-13 08:10:36+00:00  2016-05-30 00:00:00+00:00  24.000000   \n",
       "45053      M  2016-04-28 08:44:59+00:00  2016-05-11 00:00:00+00:00  61.000000   \n",
       "70483      M  2016-05-09 15:29:13+00:00  2016-05-09 00:00:00+00:00  37.088874   \n",
       "73055      F  2016-05-06 08:24:17+00:00  2016-05-11 00:00:00+00:00   8.000000   \n",
       "\n",
       "       TextReceived  NoShow  DaysBetween  \n",
       "49546             0       0           27  \n",
       "73014             1       0           16  \n",
       "45053             1       0           12  \n",
       "70483             0       0            0  \n",
       "73055             1       0            4  "
      ]
     },
     "execution_count": 349,
     "metadata": {},
     "output_type": "execute_result"
    }
   ],
   "source": [
    "clean.sample(5)"
   ]
  },
  {
   "cell_type": "code",
   "execution_count": 350,
   "id": "9766e50a-9339-4c0e-9b1c-4b8fb1f53679",
   "metadata": {},
   "outputs": [
    {
     "name": "stdout",
     "output_type": "stream",
     "text": [
      "<class 'pandas.core.frame.DataFrame'>\n",
      "RangeIndex: 110527 entries, 0 to 110526\n",
      "Data columns (total 7 columns):\n",
      " #   Column          Non-Null Count   Dtype  \n",
      "---  ------          --------------   -----  \n",
      " 0   Gender          110527 non-null  object \n",
      " 1   ScheduledDay    110527 non-null  object \n",
      " 2   AppointmentDay  110527 non-null  object \n",
      " 3   Age             110527 non-null  float64\n",
      " 4   TextReceived    110527 non-null  int64  \n",
      " 5   NoShow          110527 non-null  int64  \n",
      " 6   DaysBetween     110527 non-null  int64  \n",
      "dtypes: float64(1), int64(3), object(3)\n",
      "memory usage: 5.9+ MB\n"
     ]
    }
   ],
   "source": [
    "clean.info()"
   ]
  },
  {
   "cell_type": "markdown",
   "id": "c18d925c-db8d-435a-828e-639c24466c00",
   "metadata": {},
   "source": [
    "I noticed my dataset lost it's datetime formatting when it was saved and reopened so I am re-encoding the datetime conversion and then recalculating the "
   ]
  },
  {
   "cell_type": "code",
   "execution_count": 351,
   "id": "02f3e2a6-baa6-4359-81aa-20532ad76ca0",
   "metadata": {},
   "outputs": [
    {
     "data": {
      "text/html": [
       "<div>\n",
       "<style scoped>\n",
       "    .dataframe tbody tr th:only-of-type {\n",
       "        vertical-align: middle;\n",
       "    }\n",
       "\n",
       "    .dataframe tbody tr th {\n",
       "        vertical-align: top;\n",
       "    }\n",
       "\n",
       "    .dataframe thead th {\n",
       "        text-align: right;\n",
       "    }\n",
       "</style>\n",
       "<table border=\"1\" class=\"dataframe\">\n",
       "  <thead>\n",
       "    <tr style=\"text-align: right;\">\n",
       "      <th></th>\n",
       "      <th>Gender</th>\n",
       "      <th>ScheduledDay</th>\n",
       "      <th>AppointmentDay</th>\n",
       "      <th>Age</th>\n",
       "      <th>TextReceived</th>\n",
       "      <th>NoShow</th>\n",
       "      <th>DaysBetween</th>\n",
       "    </tr>\n",
       "  </thead>\n",
       "  <tbody>\n",
       "    <tr>\n",
       "      <th>0</th>\n",
       "      <td>F</td>\n",
       "      <td>2016-04-29 18:38:08+00:00</td>\n",
       "      <td>2016-04-29 00:00:00+00:00</td>\n",
       "      <td>62.0</td>\n",
       "      <td>0</td>\n",
       "      <td>0</td>\n",
       "      <td>0</td>\n",
       "    </tr>\n",
       "    <tr>\n",
       "      <th>1</th>\n",
       "      <td>M</td>\n",
       "      <td>2016-04-29 16:08:27+00:00</td>\n",
       "      <td>2016-04-29 00:00:00+00:00</td>\n",
       "      <td>56.0</td>\n",
       "      <td>0</td>\n",
       "      <td>0</td>\n",
       "      <td>0</td>\n",
       "    </tr>\n",
       "    <tr>\n",
       "      <th>2</th>\n",
       "      <td>F</td>\n",
       "      <td>2016-04-29 16:19:04+00:00</td>\n",
       "      <td>2016-04-29 00:00:00+00:00</td>\n",
       "      <td>62.0</td>\n",
       "      <td>0</td>\n",
       "      <td>0</td>\n",
       "      <td>0</td>\n",
       "    </tr>\n",
       "    <tr>\n",
       "      <th>3</th>\n",
       "      <td>F</td>\n",
       "      <td>2016-04-29 17:29:31+00:00</td>\n",
       "      <td>2016-04-29 00:00:00+00:00</td>\n",
       "      <td>8.0</td>\n",
       "      <td>0</td>\n",
       "      <td>0</td>\n",
       "      <td>0</td>\n",
       "    </tr>\n",
       "    <tr>\n",
       "      <th>4</th>\n",
       "      <td>F</td>\n",
       "      <td>2016-04-29 16:07:23+00:00</td>\n",
       "      <td>2016-04-29 00:00:00+00:00</td>\n",
       "      <td>56.0</td>\n",
       "      <td>0</td>\n",
       "      <td>0</td>\n",
       "      <td>0</td>\n",
       "    </tr>\n",
       "  </tbody>\n",
       "</table>\n",
       "</div>"
      ],
      "text/plain": [
       "  Gender              ScheduledDay            AppointmentDay   Age  \\\n",
       "0      F 2016-04-29 18:38:08+00:00 2016-04-29 00:00:00+00:00  62.0   \n",
       "1      M 2016-04-29 16:08:27+00:00 2016-04-29 00:00:00+00:00  56.0   \n",
       "2      F 2016-04-29 16:19:04+00:00 2016-04-29 00:00:00+00:00  62.0   \n",
       "3      F 2016-04-29 17:29:31+00:00 2016-04-29 00:00:00+00:00   8.0   \n",
       "4      F 2016-04-29 16:07:23+00:00 2016-04-29 00:00:00+00:00  56.0   \n",
       "\n",
       "   TextReceived  NoShow  DaysBetween  \n",
       "0             0       0            0  \n",
       "1             0       0            0  \n",
       "2             0       0            0  \n",
       "3             0       0            0  \n",
       "4             0       0            0  "
      ]
     },
     "execution_count": 351,
     "metadata": {},
     "output_type": "execute_result"
    }
   ],
   "source": [
    "dtconversion(clean)\n"
   ]
  },
  {
   "cell_type": "code",
   "execution_count": 352,
   "id": "828fabfc-7dd0-47d7-ab19-4408cc92c599",
   "metadata": {},
   "outputs": [
    {
     "name": "stdout",
     "output_type": "stream",
     "text": [
      "<class 'pandas.core.frame.DataFrame'>\n",
      "RangeIndex: 110527 entries, 0 to 110526\n",
      "Data columns (total 7 columns):\n",
      " #   Column          Non-Null Count   Dtype              \n",
      "---  ------          --------------   -----              \n",
      " 0   Gender          110527 non-null  object             \n",
      " 1   ScheduledDay    110527 non-null  datetime64[ns, UTC]\n",
      " 2   AppointmentDay  110527 non-null  datetime64[ns, UTC]\n",
      " 3   Age             110527 non-null  float64            \n",
      " 4   TextReceived    110527 non-null  int64              \n",
      " 5   NoShow          110527 non-null  int64              \n",
      " 6   DaysBetween     110527 non-null  int64              \n",
      "dtypes: datetime64[ns, UTC](2), float64(1), int64(3), object(1)\n",
      "memory usage: 5.9+ MB\n"
     ]
    }
   ],
   "source": [
    "clean.info()"
   ]
  },
  {
   "cell_type": "code",
   "execution_count": 353,
   "id": "0a3f26ec-9762-4ff1-a08a-b4b54c86f72a",
   "metadata": {},
   "outputs": [
    {
     "data": {
      "text/plain": [
       "0"
      ]
     },
     "execution_count": 353,
     "metadata": {},
     "output_type": "execute_result"
    }
   ],
   "source": [
    "(clean['DaysBetween'] < 0).sum()"
   ]
  },
  {
   "cell_type": "code",
   "execution_count": 354,
   "id": "bf40af31-4db2-40e0-a2d9-54421f190751",
   "metadata": {},
   "outputs": [
    {
     "data": {
      "text/html": [
       "<div>\n",
       "<style scoped>\n",
       "    .dataframe tbody tr th:only-of-type {\n",
       "        vertical-align: middle;\n",
       "    }\n",
       "\n",
       "    .dataframe tbody tr th {\n",
       "        vertical-align: top;\n",
       "    }\n",
       "\n",
       "    .dataframe thead th {\n",
       "        text-align: right;\n",
       "    }\n",
       "</style>\n",
       "<table border=\"1\" class=\"dataframe\">\n",
       "  <thead>\n",
       "    <tr style=\"text-align: right;\">\n",
       "      <th></th>\n",
       "      <th>Age</th>\n",
       "      <th>TextReceived</th>\n",
       "      <th>NoShow</th>\n",
       "      <th>DaysBetween</th>\n",
       "    </tr>\n",
       "  </thead>\n",
       "  <tbody>\n",
       "    <tr>\n",
       "      <th>count</th>\n",
       "      <td>110527.000000</td>\n",
       "      <td>110527.000000</td>\n",
       "      <td>110527.000000</td>\n",
       "      <td>110527.000000</td>\n",
       "    </tr>\n",
       "    <tr>\n",
       "      <th>mean</th>\n",
       "      <td>38.273255</td>\n",
       "      <td>0.321026</td>\n",
       "      <td>0.201933</td>\n",
       "      <td>9.532739</td>\n",
       "    </tr>\n",
       "    <tr>\n",
       "      <th>std</th>\n",
       "      <td>22.098538</td>\n",
       "      <td>0.466873</td>\n",
       "      <td>0.401444</td>\n",
       "      <td>15.027729</td>\n",
       "    </tr>\n",
       "    <tr>\n",
       "      <th>min</th>\n",
       "      <td>1.000000</td>\n",
       "      <td>0.000000</td>\n",
       "      <td>0.000000</td>\n",
       "      <td>0.000000</td>\n",
       "    </tr>\n",
       "    <tr>\n",
       "      <th>25%</th>\n",
       "      <td>20.000000</td>\n",
       "      <td>0.000000</td>\n",
       "      <td>0.000000</td>\n",
       "      <td>0.000000</td>\n",
       "    </tr>\n",
       "    <tr>\n",
       "      <th>50%</th>\n",
       "      <td>37.088874</td>\n",
       "      <td>0.000000</td>\n",
       "      <td>0.000000</td>\n",
       "      <td>3.000000</td>\n",
       "    </tr>\n",
       "    <tr>\n",
       "      <th>75%</th>\n",
       "      <td>55.000000</td>\n",
       "      <td>1.000000</td>\n",
       "      <td>0.000000</td>\n",
       "      <td>14.000000</td>\n",
       "    </tr>\n",
       "    <tr>\n",
       "      <th>max</th>\n",
       "      <td>102.000000</td>\n",
       "      <td>1.000000</td>\n",
       "      <td>1.000000</td>\n",
       "      <td>178.000000</td>\n",
       "    </tr>\n",
       "  </tbody>\n",
       "</table>\n",
       "</div>"
      ],
      "text/plain": [
       "                 Age   TextReceived         NoShow    DaysBetween\n",
       "count  110527.000000  110527.000000  110527.000000  110527.000000\n",
       "mean       38.273255       0.321026       0.201933       9.532739\n",
       "std        22.098538       0.466873       0.401444      15.027729\n",
       "min         1.000000       0.000000       0.000000       0.000000\n",
       "25%        20.000000       0.000000       0.000000       0.000000\n",
       "50%        37.088874       0.000000       0.000000       3.000000\n",
       "75%        55.000000       1.000000       0.000000      14.000000\n",
       "max       102.000000       1.000000       1.000000     178.000000"
      ]
     },
     "execution_count": 354,
     "metadata": {},
     "output_type": "execute_result"
    }
   ],
   "source": [
    "clean.describe()"
   ]
  },
  {
   "cell_type": "code",
   "execution_count": 355,
   "id": "8e333259-71aa-4bd0-9bc6-a8139cae534c",
   "metadata": {},
   "outputs": [
    {
     "data": {
      "text/html": [
       "<div>\n",
       "<style scoped>\n",
       "    .dataframe tbody tr th:only-of-type {\n",
       "        vertical-align: middle;\n",
       "    }\n",
       "\n",
       "    .dataframe tbody tr th {\n",
       "        vertical-align: top;\n",
       "    }\n",
       "\n",
       "    .dataframe thead th {\n",
       "        text-align: right;\n",
       "    }\n",
       "</style>\n",
       "<table border=\"1\" class=\"dataframe\">\n",
       "  <thead>\n",
       "    <tr style=\"text-align: right;\">\n",
       "      <th></th>\n",
       "      <th>Gender</th>\n",
       "      <th>ScheduledDay</th>\n",
       "      <th>AppointmentDay</th>\n",
       "      <th>Age</th>\n",
       "      <th>TextReceived</th>\n",
       "      <th>NoShow</th>\n",
       "      <th>DaysBetween</th>\n",
       "    </tr>\n",
       "  </thead>\n",
       "  <tbody>\n",
       "    <tr>\n",
       "      <th>103869</th>\n",
       "      <td>F</td>\n",
       "      <td>2016-05-13 07:44:40+00:00</td>\n",
       "      <td>2016-06-06 00:00:00+00:00</td>\n",
       "      <td>4.000000</td>\n",
       "      <td>1</td>\n",
       "      <td>0</td>\n",
       "      <td>23</td>\n",
       "    </tr>\n",
       "    <tr>\n",
       "      <th>13678</th>\n",
       "      <td>F</td>\n",
       "      <td>2016-05-10 15:26:20+00:00</td>\n",
       "      <td>2016-05-10 00:00:00+00:00</td>\n",
       "      <td>37.088874</td>\n",
       "      <td>0</td>\n",
       "      <td>1</td>\n",
       "      <td>0</td>\n",
       "    </tr>\n",
       "    <tr>\n",
       "      <th>44741</th>\n",
       "      <td>M</td>\n",
       "      <td>2016-04-28 13:05:07+00:00</td>\n",
       "      <td>2016-05-17 00:00:00+00:00</td>\n",
       "      <td>1.000000</td>\n",
       "      <td>0</td>\n",
       "      <td>0</td>\n",
       "      <td>18</td>\n",
       "    </tr>\n",
       "    <tr>\n",
       "      <th>68810</th>\n",
       "      <td>F</td>\n",
       "      <td>2016-05-17 10:28:38+00:00</td>\n",
       "      <td>2016-05-17 00:00:00+00:00</td>\n",
       "      <td>40.000000</td>\n",
       "      <td>0</td>\n",
       "      <td>0</td>\n",
       "      <td>0</td>\n",
       "    </tr>\n",
       "    <tr>\n",
       "      <th>70308</th>\n",
       "      <td>M</td>\n",
       "      <td>2016-04-28 18:04:32+00:00</td>\n",
       "      <td>2016-05-04 00:00:00+00:00</td>\n",
       "      <td>30.000000</td>\n",
       "      <td>1</td>\n",
       "      <td>0</td>\n",
       "      <td>5</td>\n",
       "    </tr>\n",
       "  </tbody>\n",
       "</table>\n",
       "</div>"
      ],
      "text/plain": [
       "       Gender              ScheduledDay            AppointmentDay        Age  \\\n",
       "103869      F 2016-05-13 07:44:40+00:00 2016-06-06 00:00:00+00:00   4.000000   \n",
       "13678       F 2016-05-10 15:26:20+00:00 2016-05-10 00:00:00+00:00  37.088874   \n",
       "44741       M 2016-04-28 13:05:07+00:00 2016-05-17 00:00:00+00:00   1.000000   \n",
       "68810       F 2016-05-17 10:28:38+00:00 2016-05-17 00:00:00+00:00  40.000000   \n",
       "70308       M 2016-04-28 18:04:32+00:00 2016-05-04 00:00:00+00:00  30.000000   \n",
       "\n",
       "        TextReceived  NoShow  DaysBetween  \n",
       "103869             1       0           23  \n",
       "13678              0       1            0  \n",
       "44741              0       0           18  \n",
       "68810              0       0            0  \n",
       "70308              1       0            5  "
      ]
     },
     "execution_count": 355,
     "metadata": {},
     "output_type": "execute_result"
    }
   ],
   "source": [
    "clean.sample(5)"
   ]
  },
  {
   "cell_type": "markdown",
   "id": "e72d784f-1db6-4580-9541-9ce80c028a89",
   "metadata": {},
   "source": [
    "#### General Overview of patient demographics"
   ]
  },
  {
   "cell_type": "code",
   "execution_count": 356,
   "id": "7161fa0a-0bcb-42e8-a265-be9e67339991",
   "metadata": {},
   "outputs": [
    {
     "data": {
      "image/png": "[encoded data removed]",
      "text/plain": [
       "<Figure size 1200x600 with 1 Axes>"
      ]
     },
     "metadata": {},
     "output_type": "display_data"
    }
   ],
   "source": [
    "# Create bins for the ages\n",
    "bins = [0, 10, 20, 30, 40, 50, 60, 70, 80, 90, 100, 110, 120]\n",
    "\n",
    "# Cut the ages into the bins and create a new column for the age bins\n",
    "clean['Age Bin'] = pd.cut(clean['Age'], bins)\n",
    "\n",
    "# Plot the age distribution using a barchart\n",
    "plt.figure(figsize=(12, 6))\n",
    "sns.countplot(x='Age Bin', data=clean)\n",
    "plt.xticks(rotation=45)\n",
    "plt.tight_layout()\n",
    "\n",
    "# Add x-axis title\n",
    "plt.xlabel('Patient Age')\n",
    "\n",
    "# Add y-axis title\n",
    "plt.ylabel('Count')\n",
    "\n",
    "# Show the plot\n",
    "plt.show()\n",
    "\n"
   ]
  },
  {
   "cell_type": "markdown",
   "id": "b01d3432-04a1-45c6-9cee-db8cf17a15b6",
   "metadata": {},
   "source": [
    "#### Investigating factors that affect no shows"
   ]
  },
  {
   "cell_type": "code",
   "execution_count": 357,
   "id": "c9aeadb3-f52d-4635-9348-5c25a84475e7",
   "metadata": {},
   "outputs": [
    {
     "data": {
      "image/png": "[encoded data removed]",
      "text/plain": [
       "<Figure size 640x480 with 1 Axes>"
      ]
     },
     "metadata": {},
     "output_type": "display_data"
    }
   ],
   "source": [
    "#Setting color palette\n",
    "main_color = sns.color_palette('bwr')[0]\n",
    "\n",
    "#Creating bar chart using no_show column\n",
    "sns.countplot(data = clean, x = 'NoShow', color = main_color)\n",
    "plt.title('Appointment Attendance')\n",
    "plt.xticks([0, 1], ['Attended', 'No Show'])\n",
    "plt.xlabel('Attendance')\n",
    "plt.ylabel('Number of Patients');"
   ]
  },
  {
   "cell_type": "code",
   "execution_count": 358,
   "id": "9ec4060b-cc76-4f9b-95ab-555fdb50e99a",
   "metadata": {},
   "outputs": [
    {
     "data": {
      "image/png": "[encoded data removed]",
      "text/plain": [
       "<Figure size 640x480 with 1 Axes>"
      ]
     },
     "metadata": {},
     "output_type": "display_data"
    }
   ],
   "source": [
    "attendance_counts = clean.NoShow.value_counts()\n",
    "\n",
    "colors = sns.color_palette('bwr')\n",
    "\n",
    "plt.pie(attendance_counts, labels = ['Attended', 'No Show'], startangle = 90,\n",
    "        counterclock = False, colors=[colors[2], colors[3]], autopct='%1.1f%%',wedgeprops = { 'linewidth' : 3, 'edgecolor' : 'white' })\n",
    "\n",
    "plt.axis('square')\n",
    "plt.title('Appointment Attendance');\n"
   ]
  },
  {
   "cell_type": "code",
   "execution_count": 359,
   "id": "aabbb12b-3130-4604-a96f-59b1929831f8",
   "metadata": {},
   "outputs": [
    {
     "data": {
      "image/png": "[encoded data removed]",
      "text/plain": [
       "<Figure size 640x480 with 1 Axes>"
      ]
     },
     "metadata": {},
     "output_type": "display_data"
    }
   ],
   "source": [
    "# Create a new column indicating whether the appointment was a no-show (1) or not (0)\n",
    "clean['No-show'] = (clean['NoShow'] == 'Yes').astype(int)\n",
    "\n",
    "# Group the data by gender and calculate the mean of the No-show column\n",
    "no_show_gender = clean.groupby('Gender')['NoShow'].mean()\n",
    "\n",
    "# Set the main color\n",
    "main_color = sns.color_palette('bwr')[0]\n",
    "\n",
    "# Plot the no-show rate by gender\n",
    "sns.countplot(x='Gender', hue='No-show', data=clean)\n",
    "\n",
    "# Add titles for x and y axis\n",
    "plt.xlabel('Gender')\n",
    "plt.ylabel('No-show Rate')\n",
    "\n",
    "# Show the plot\n",
    "plt.show()\n"
   ]
  },
  {
   "cell_type": "code",
   "execution_count": 360,
   "id": "160356a9-8200-4784-a6ab-8ae559a16630",
   "metadata": {},
   "outputs": [
    {
     "data": {
      "image/png": "[encoded data removed]",
      "text/plain": [
       "<Figure size 1500x600 with 1 Axes>"
      ]
     },
     "metadata": {},
     "output_type": "display_data"
    }
   ],
   "source": [
    "# Set the main color\n",
    "main_color = sns.color_palette('bwr')\n",
    "sns.set_palette(main_color)\n",
    "\n",
    "# group by DaysBetween and calculate the mean of No Show \n",
    "grouped = clean.groupby('DaysBetween')['NoShow'].mean()\n",
    "\n",
    "plt.figure(figsize=(12, 6))\n",
    "plt.xticks(rotation=45)\n",
    "plt.tight_layout()\n",
    "\n",
    "# plot the result\n",
    "grouped.plot(kind='bar', figsize=(15,6),color=main_color[0])\n",
    "plt.xlabel('Days between scheduling and appointment')\n",
    "plt.ylabel('No Show rate')\n",
    "plt.title('Effect of days between scheduling and appointment on no-show rate')\n",
    "plt.show()\n",
    "\n",
    "\n",
    "\n"
   ]
  },
  {
   "cell_type": "markdown",
   "id": "6242ecba-f115-4109-999a-5a2d831efa28",
   "metadata": {},
   "source": [
    "While there is a clear increase in the no show rate when appointments are made more than 90 days out it's hard to see a clear trend from this chart. I will create bins to see if there is a clearer trend to be seen."
   ]
  },
  {
   "cell_type": "code",
   "execution_count": 361,
   "id": "34ed1752-dfe2-46b1-8659-ad647d0f0cd1",
   "metadata": {},
   "outputs": [
    {
     "data": {
      "image/png": "[encoded data removed]",
      "text/plain": [
       "<Figure size 640x480 with 1 Axes>"
      ]
     },
     "metadata": {},
     "output_type": "display_data"
    }
   ],
   "source": [
    "# Set the main color\n",
    "main_color = sns.color_palette('bwr')\n",
    "sns.set_palette(main_color)\n",
    "\n",
    "\n",
    "bins = [0, 7, 14, 30, 60, 90, 180]\n",
    "labels = ['0-7', '7-14', '14-30', '30-60', '60-90', '90-180']\n",
    "df['DaysBetweenBin'] = pd.cut(df['DaysBetween'], bins=bins, labels=labels)\n",
    "\n",
    "no_show_grouped = df.groupby('DaysBetweenBin')['NoShow'].mean()\n",
    "no_show_grouped.plot(kind='bar', color=main_color)\n",
    "plt.xlabel('Days between Scheduling and Appointment')\n",
    "plt.ylabel('No Show Rate')\n",
    "plt.title('No Show Rate by Days between Scheduling and Appointment')\n",
    "plt.show()\n",
    "\n",
    "\n",
    "    "
   ]
  },
  {
   "cell_type": "code",
   "execution_count": 362,
   "id": "139b91ad-1164-4227-8537-775cf3738180",
   "metadata": {},
   "outputs": [],
   "source": [
    "# Filter the data by no-show and attendance\n",
    "noshowed = clean['NoShow'] == 'Yes'\n",
    "attended = clean['NoShow'] == 'No'\n"
   ]
  },
  {
   "cell_type": "code",
   "execution_count": 363,
   "id": "b587af90-ba32-406f-9133-d98b4a01d49d",
   "metadata": {},
   "outputs": [],
   "source": [
    "#Creating masks for text received\n",
    "textreceived = clean['TextReceived'] == True\n",
    "notext = clean['TextReceived'] == False"
   ]
  },
  {
   "cell_type": "code",
   "execution_count": 216,
   "id": "3399633b-ffdc-4f23-a57b-c578419d4b1a",
   "metadata": {},
   "outputs": [
    {
     "data": {
      "image/png": "[encoded data removed]",
      "text/plain": [
       "<Figure size 500x500 with 1 Axes>"
      ]
     },
     "metadata": {},
     "output_type": "display_data"
    }
   ],
   "source": [
    "# Set the main color\n",
    "main_color = sns.color_palette('bwr')\n",
    "sns.set_palette(main_color)\n",
    "\n",
    "# Plot the no-show rate by age\n",
    "g = sns.catplot(x='NoShow', y='Age', data=clean, kind='violin', color='blue', inner='stick')\n",
    "\n",
    "g.set(xticklabels=[\"Showed\", \"No Show\"])\n",
    "\n",
    "plt.title(\"Comparison of Age between Showed and No Show Patients\")\n",
    "\n",
    "# Add titles for x and y axis\n",
    "plt.xlabel('Attendance')\n",
    "plt.ylabel('Age')\n",
    "\n",
    "# Show the plot\n",
    "plt.show()\n"
   ]
  },
  {
   "cell_type": "markdown",
   "id": "cced5e7c-9e27-4870-b0c7-07f5e1582ab9",
   "metadata": {},
   "source": [
    "## Does receiving a text effect whether a patient shows up for their appointment or not. "
   ]
  },
  {
   "cell_type": "code",
   "execution_count": 364,
   "id": "566d2869-399a-419e-808a-7f59f4a140bf",
   "metadata": {},
   "outputs": [
    {
     "data": {
      "image/png": "[encoded data removed]",
      "text/plain": [
       "<Figure size 640x480 with 1 Axes>"
      ]
     },
     "metadata": {},
     "output_type": "display_data"
    }
   ],
   "source": [
    "#Create chart showing no shows using the clean dataset and a previously defined function.\n",
    "noshowchart(clean)"
   ]
  },
  {
   "cell_type": "markdown",
   "id": "12ab86d6-4647-4f56-ba1e-b19f006105af",
   "metadata": {},
   "source": [
    "I noticed when I was calculating the days between scheduling day and appointment day that many of the entries had a value of 0 or -1 days in between scheduling an appointment and\n",
    "attending an appointment. The -1 values were because all the values in the appointment day column was for midnight the day of the appointment while the scheduling day column had the exact\n",
    "date time when it was scheduled.\n",
    "\n",
    "Because there appeared to be many same day and next day appointments it made me wonder if those patients even had time to receive a text message since typically with most medical practices texts are sent out 24hrs prior to an appointment. This means that patients that made a same day appointment probably are skewing the results for attending their appointment without a text message. Also additionally patients who make a same day appointment are probably very motivated to attend their appointment.\n",
    "\n",
    "Because of this I'm going to create a second dataframe excluding rows wheres days between scheduling day and appointment day are 0 and then repeat the same visualizations. I also will create a dataset that only contains same day appointments \n",
    "\n"
   ]
  },
  {
   "cell_type": "code",
   "execution_count": 365,
   "id": "565609a7-2f6f-43cb-be97-746e287f75fd",
   "metadata": {},
   "outputs": [],
   "source": [
    "clean_exclude_sameday = clean[clean.DaysBetween != 0]\n",
    "clean_sameday_only = clean[clean.DaysBetween == 0]"
   ]
  },
  {
   "cell_type": "code",
   "execution_count": 366,
   "id": "22c95f23-3903-403e-bca5-5e2233127dfa",
   "metadata": {},
   "outputs": [
    {
     "data": {
      "text/html": [
       "<div>\n",
       "<style scoped>\n",
       "    .dataframe tbody tr th:only-of-type {\n",
       "        vertical-align: middle;\n",
       "    }\n",
       "\n",
       "    .dataframe tbody tr th {\n",
       "        vertical-align: top;\n",
       "    }\n",
       "\n",
       "    .dataframe thead th {\n",
       "        text-align: right;\n",
       "    }\n",
       "</style>\n",
       "<table border=\"1\" class=\"dataframe\">\n",
       "  <thead>\n",
       "    <tr style=\"text-align: right;\">\n",
       "      <th></th>\n",
       "      <th>Gender</th>\n",
       "      <th>ScheduledDay</th>\n",
       "      <th>AppointmentDay</th>\n",
       "      <th>Age</th>\n",
       "      <th>TextReceived</th>\n",
       "      <th>NoShow</th>\n",
       "      <th>DaysBetween</th>\n",
       "      <th>Age Bin</th>\n",
       "      <th>No-show</th>\n",
       "    </tr>\n",
       "  </thead>\n",
       "  <tbody>\n",
       "    <tr>\n",
       "      <th>106338</th>\n",
       "      <td>F</td>\n",
       "      <td>2016-05-31 07:17:04+00:00</td>\n",
       "      <td>2016-06-02 00:00:00+00:00</td>\n",
       "      <td>29.0</td>\n",
       "      <td>0</td>\n",
       "      <td>0</td>\n",
       "      <td>1</td>\n",
       "      <td>(20, 30]</td>\n",
       "      <td>0</td>\n",
       "    </tr>\n",
       "    <tr>\n",
       "      <th>91755</th>\n",
       "      <td>F</td>\n",
       "      <td>2016-05-24 08:14:16+00:00</td>\n",
       "      <td>2016-06-07 00:00:00+00:00</td>\n",
       "      <td>47.0</td>\n",
       "      <td>1</td>\n",
       "      <td>1</td>\n",
       "      <td>13</td>\n",
       "      <td>(40, 50]</td>\n",
       "      <td>0</td>\n",
       "    </tr>\n",
       "    <tr>\n",
       "      <th>96861</th>\n",
       "      <td>F</td>\n",
       "      <td>2016-06-02 08:50:11+00:00</td>\n",
       "      <td>2016-06-08 00:00:00+00:00</td>\n",
       "      <td>42.0</td>\n",
       "      <td>0</td>\n",
       "      <td>0</td>\n",
       "      <td>5</td>\n",
       "      <td>(40, 50]</td>\n",
       "      <td>0</td>\n",
       "    </tr>\n",
       "    <tr>\n",
       "      <th>14613</th>\n",
       "      <td>M</td>\n",
       "      <td>2016-03-31 15:32:18+00:00</td>\n",
       "      <td>2016-05-06 00:00:00+00:00</td>\n",
       "      <td>44.0</td>\n",
       "      <td>1</td>\n",
       "      <td>0</td>\n",
       "      <td>35</td>\n",
       "      <td>(40, 50]</td>\n",
       "      <td>0</td>\n",
       "    </tr>\n",
       "    <tr>\n",
       "      <th>63547</th>\n",
       "      <td>F</td>\n",
       "      <td>2016-04-26 15:34:51+00:00</td>\n",
       "      <td>2016-05-18 00:00:00+00:00</td>\n",
       "      <td>42.0</td>\n",
       "      <td>0</td>\n",
       "      <td>1</td>\n",
       "      <td>21</td>\n",
       "      <td>(40, 50]</td>\n",
       "      <td>0</td>\n",
       "    </tr>\n",
       "  </tbody>\n",
       "</table>\n",
       "</div>"
      ],
      "text/plain": [
       "       Gender              ScheduledDay            AppointmentDay   Age  \\\n",
       "106338      F 2016-05-31 07:17:04+00:00 2016-06-02 00:00:00+00:00  29.0   \n",
       "91755       F 2016-05-24 08:14:16+00:00 2016-06-07 00:00:00+00:00  47.0   \n",
       "96861       F 2016-06-02 08:50:11+00:00 2016-06-08 00:00:00+00:00  42.0   \n",
       "14613       M 2016-03-31 15:32:18+00:00 2016-05-06 00:00:00+00:00  44.0   \n",
       "63547       F 2016-04-26 15:34:51+00:00 2016-05-18 00:00:00+00:00  42.0   \n",
       "\n",
       "        TextReceived  NoShow  DaysBetween   Age Bin  No-show  \n",
       "106338             0       0            1  (20, 30]        0  \n",
       "91755              1       1           13  (40, 50]        0  \n",
       "96861              0       0            5  (40, 50]        0  \n",
       "14613              1       0           35  (40, 50]        0  \n",
       "63547              0       1           21  (40, 50]        0  "
      ]
     },
     "execution_count": 366,
     "metadata": {},
     "output_type": "execute_result"
    }
   ],
   "source": [
    "#Verifying the subdivision was created correctly.\n",
    "clean_exclude_sameday.sample(5)"
   ]
  },
  {
   "cell_type": "code",
   "execution_count": 367,
   "id": "40d5f7a2-cf5c-4417-b1ae-cb1083621e1e",
   "metadata": {},
   "outputs": [
    {
     "data": {
      "text/html": [
       "<div>\n",
       "<style scoped>\n",
       "    .dataframe tbody tr th:only-of-type {\n",
       "        vertical-align: middle;\n",
       "    }\n",
       "\n",
       "    .dataframe tbody tr th {\n",
       "        vertical-align: top;\n",
       "    }\n",
       "\n",
       "    .dataframe thead th {\n",
       "        text-align: right;\n",
       "    }\n",
       "</style>\n",
       "<table border=\"1\" class=\"dataframe\">\n",
       "  <thead>\n",
       "    <tr style=\"text-align: right;\">\n",
       "      <th></th>\n",
       "      <th>Gender</th>\n",
       "      <th>ScheduledDay</th>\n",
       "      <th>AppointmentDay</th>\n",
       "      <th>Age</th>\n",
       "      <th>TextReceived</th>\n",
       "      <th>NoShow</th>\n",
       "      <th>DaysBetween</th>\n",
       "      <th>Age Bin</th>\n",
       "      <th>No-show</th>\n",
       "    </tr>\n",
       "  </thead>\n",
       "  <tbody>\n",
       "    <tr>\n",
       "      <th>35706</th>\n",
       "      <td>F</td>\n",
       "      <td>2016-05-17 10:22:02+00:00</td>\n",
       "      <td>2016-05-18 00:00:00+00:00</td>\n",
       "      <td>46.0</td>\n",
       "      <td>0</td>\n",
       "      <td>1</td>\n",
       "      <td>0</td>\n",
       "      <td>(40, 50]</td>\n",
       "      <td>0</td>\n",
       "    </tr>\n",
       "    <tr>\n",
       "      <th>91018</th>\n",
       "      <td>M</td>\n",
       "      <td>2016-06-08 08:01:12+00:00</td>\n",
       "      <td>2016-06-08 00:00:00+00:00</td>\n",
       "      <td>46.0</td>\n",
       "      <td>0</td>\n",
       "      <td>0</td>\n",
       "      <td>0</td>\n",
       "      <td>(40, 50]</td>\n",
       "      <td>0</td>\n",
       "    </tr>\n",
       "    <tr>\n",
       "      <th>5775</th>\n",
       "      <td>F</td>\n",
       "      <td>2016-05-30 10:34:36+00:00</td>\n",
       "      <td>2016-05-30 00:00:00+00:00</td>\n",
       "      <td>29.0</td>\n",
       "      <td>0</td>\n",
       "      <td>0</td>\n",
       "      <td>0</td>\n",
       "      <td>(20, 30]</td>\n",
       "      <td>0</td>\n",
       "    </tr>\n",
       "    <tr>\n",
       "      <th>86181</th>\n",
       "      <td>M</td>\n",
       "      <td>2016-06-03 07:53:03+00:00</td>\n",
       "      <td>2016-06-03 00:00:00+00:00</td>\n",
       "      <td>60.0</td>\n",
       "      <td>0</td>\n",
       "      <td>0</td>\n",
       "      <td>0</td>\n",
       "      <td>(50, 60]</td>\n",
       "      <td>0</td>\n",
       "    </tr>\n",
       "    <tr>\n",
       "      <th>93506</th>\n",
       "      <td>F</td>\n",
       "      <td>2016-06-06 14:16:18+00:00</td>\n",
       "      <td>2016-06-06 00:00:00+00:00</td>\n",
       "      <td>58.0</td>\n",
       "      <td>0</td>\n",
       "      <td>0</td>\n",
       "      <td>0</td>\n",
       "      <td>(50, 60]</td>\n",
       "      <td>0</td>\n",
       "    </tr>\n",
       "  </tbody>\n",
       "</table>\n",
       "</div>"
      ],
      "text/plain": [
       "      Gender              ScheduledDay            AppointmentDay   Age  \\\n",
       "35706      F 2016-05-17 10:22:02+00:00 2016-05-18 00:00:00+00:00  46.0   \n",
       "91018      M 2016-06-08 08:01:12+00:00 2016-06-08 00:00:00+00:00  46.0   \n",
       "5775       F 2016-05-30 10:34:36+00:00 2016-05-30 00:00:00+00:00  29.0   \n",
       "86181      M 2016-06-03 07:53:03+00:00 2016-06-03 00:00:00+00:00  60.0   \n",
       "93506      F 2016-06-06 14:16:18+00:00 2016-06-06 00:00:00+00:00  58.0   \n",
       "\n",
       "       TextReceived  NoShow  DaysBetween   Age Bin  No-show  \n",
       "35706             0       1            0  (40, 50]        0  \n",
       "91018             0       0            0  (40, 50]        0  \n",
       "5775              0       0            0  (20, 30]        0  \n",
       "86181             0       0            0  (50, 60]        0  \n",
       "93506             0       0            0  (50, 60]        0  "
      ]
     },
     "execution_count": 367,
     "metadata": {},
     "output_type": "execute_result"
    }
   ],
   "source": [
    "clean_sameday_only.sample(5)"
   ]
  },
  {
   "cell_type": "code",
   "execution_count": 368,
   "id": "872afb03-6f77-44c9-b856-ec3269ef65a5",
   "metadata": {},
   "outputs": [
    {
     "data": {
      "text/plain": [
       "(66746, 9)"
      ]
     },
     "execution_count": 368,
     "metadata": {},
     "output_type": "execute_result"
    }
   ],
   "source": [
    "clean_exclude_sameday.shape"
   ]
  },
  {
   "cell_type": "code",
   "execution_count": 369,
   "id": "c86b26ff-6d2d-4987-a7c1-ba36c0bcb1c7",
   "metadata": {},
   "outputs": [
    {
     "data": {
      "text/plain": [
       "60.388864259411726"
      ]
     },
     "execution_count": 369,
     "metadata": {},
     "output_type": "execute_result"
    }
   ],
   "source": [
    "#Calculating what proportion of the dataset does non sameday appointments make up\n",
    "clean_exclude_sameday.shape[0] / clean.shape[0] * 100"
   ]
  },
  {
   "cell_type": "code",
   "execution_count": 370,
   "id": "beec0417-4673-45e7-bbee-8e9cb5105845",
   "metadata": {},
   "outputs": [
    {
     "data": {
      "text/plain": [
       "(43781, 9)"
      ]
     },
     "execution_count": 370,
     "metadata": {},
     "output_type": "execute_result"
    }
   ],
   "source": [
    "clean_sameday_only.shape"
   ]
  },
  {
   "cell_type": "code",
   "execution_count": 371,
   "id": "0c357999-f1ec-426a-9292-a1ad62bd38dc",
   "metadata": {},
   "outputs": [
    {
     "data": {
      "text/plain": [
       "39.611135740588274"
      ]
     },
     "execution_count": 371,
     "metadata": {},
     "output_type": "execute_result"
    }
   ],
   "source": [
    "#Calculating what proportion of the dataset does non sameday appointments make up\n",
    "clean_sameday_only .shape[0] / clean.shape[0] * 100"
   ]
  },
  {
   "cell_type": "markdown",
   "id": "d090cedf-a118-4554-a2a3-83078df48bbc",
   "metadata": {},
   "source": [
    "So we can see from these proportions that same day appointments make up nearly 40% of the all appointments made. This has the potential to skew the analysis as to whether text messages are helpful for reducing no shows if my assumption is correct that same day appointments do not receive text message reminders because it's already past the point where they would have been sent and that patients who have made sameday appointments are motivated to attend their appointment and have also had contact with a staff member at the clinic which would replace the purpose of a text."
   ]
  },
  {
   "cell_type": "code",
   "execution_count": 372,
   "id": "7477d1fb-2ae0-46e8-809d-82a023f9247c",
   "metadata": {},
   "outputs": [
    {
     "data": {
      "image/png": "[encoded data removed]",
      "text/plain": [
       "<Figure size 640x480 with 1 Axes>"
      ]
     },
     "metadata": {},
     "output_type": "display_data"
    }
   ],
   "source": [
    "#Create chart showing no shows using the clean_sameday_only dataset and a previously defined function.\n",
    "noshowchart(clean_sameday_only)"
   ]
  },
  {
   "cell_type": "markdown",
   "id": "c3d19c86-14c4-43ad-983c-2cf3256ff8b2",
   "metadata": {},
   "source": [
    "So now I've subdivided the data set into same day and non same day appointments I can see that none of the appointments booked same day received text messages which confirms my suspicions that same day appointments do not receive text messgaes because the text messages are sent out some time prior to the day of the appointment. Because same day appointments make up a very high volume of the total number of appointments and they have a very low rate of no shows their inclusion in this analysis will skew the results and obscure the insights we are trying to make. I feel confident at this point to exclude same day appointments from my analysis but I will make a note of it in my report. "
   ]
  },
  {
   "cell_type": "code",
   "execution_count": 373,
   "id": "43a3351d-1c9e-4421-9e7d-bbe746f995b0",
   "metadata": {},
   "outputs": [
    {
     "data": {
      "image/png": "[encoded data removed]",
      "text/plain": [
       "<Figure size 640x480 with 1 Axes>"
      ]
     },
     "metadata": {},
     "output_type": "display_data"
    }
   ],
   "source": [
    "#Create chart showing no shows using the clean_exclude_sameday dataset and a previously defined function.\n",
    "noshowchart(clean_exclude_sameday)"
   ]
  },
  {
   "cell_type": "markdown",
   "id": "5b8e4cdb-22cb-47b9-847c-971e9e0dbf9c",
   "metadata": {},
   "source": [
    "When the dataset that excludes the same day appointments is recharted we can see that text messages do have an affect on reducing patients not showing up for their appointment."
   ]
  },
  {
   "cell_type": "markdown",
   "id": "491bed37-f377-492e-9554-966c8eb1624b",
   "metadata": {},
   "source": [
    "# Summary Statistics"
   ]
  },
  {
   "cell_type": "code",
   "execution_count": 374,
   "id": "55af7945-9ab2-4f3a-84be-1a56d7e3c673",
   "metadata": {},
   "outputs": [
    {
     "data": {
      "text/html": [
       "<div>\n",
       "<style scoped>\n",
       "    .dataframe tbody tr th:only-of-type {\n",
       "        vertical-align: middle;\n",
       "    }\n",
       "\n",
       "    .dataframe tbody tr th {\n",
       "        vertical-align: top;\n",
       "    }\n",
       "\n",
       "    .dataframe thead th {\n",
       "        text-align: right;\n",
       "    }\n",
       "</style>\n",
       "<table border=\"1\" class=\"dataframe\">\n",
       "  <thead>\n",
       "    <tr style=\"text-align: right;\">\n",
       "      <th></th>\n",
       "      <th>Age</th>\n",
       "      <th>TextReceived</th>\n",
       "      <th>NoShow</th>\n",
       "      <th>DaysBetween</th>\n",
       "      <th>No-show</th>\n",
       "    </tr>\n",
       "  </thead>\n",
       "  <tbody>\n",
       "    <tr>\n",
       "      <th>count</th>\n",
       "      <td>66746.000000</td>\n",
       "      <td>66746.000000</td>\n",
       "      <td>66746.000000</td>\n",
       "      <td>66746.000000</td>\n",
       "      <td>66746.0</td>\n",
       "    </tr>\n",
       "    <tr>\n",
       "      <th>mean</th>\n",
       "      <td>39.468033</td>\n",
       "      <td>0.531597</td>\n",
       "      <td>0.290789</td>\n",
       "      <td>15.785590</td>\n",
       "      <td>0.0</td>\n",
       "    </tr>\n",
       "    <tr>\n",
       "      <th>std</th>\n",
       "      <td>21.871246</td>\n",
       "      <td>0.499004</td>\n",
       "      <td>0.454130</td>\n",
       "      <td>16.590956</td>\n",
       "      <td>0.0</td>\n",
       "    </tr>\n",
       "    <tr>\n",
       "      <th>min</th>\n",
       "      <td>1.000000</td>\n",
       "      <td>0.000000</td>\n",
       "      <td>0.000000</td>\n",
       "      <td>1.000000</td>\n",
       "      <td>0.0</td>\n",
       "    </tr>\n",
       "    <tr>\n",
       "      <th>25%</th>\n",
       "      <td>22.000000</td>\n",
       "      <td>0.000000</td>\n",
       "      <td>0.000000</td>\n",
       "      <td>4.000000</td>\n",
       "      <td>0.0</td>\n",
       "    </tr>\n",
       "    <tr>\n",
       "      <th>50%</th>\n",
       "      <td>39.000000</td>\n",
       "      <td>1.000000</td>\n",
       "      <td>0.000000</td>\n",
       "      <td>11.000000</td>\n",
       "      <td>0.0</td>\n",
       "    </tr>\n",
       "    <tr>\n",
       "      <th>75%</th>\n",
       "      <td>56.000000</td>\n",
       "      <td>1.000000</td>\n",
       "      <td>1.000000</td>\n",
       "      <td>23.000000</td>\n",
       "      <td>0.0</td>\n",
       "    </tr>\n",
       "    <tr>\n",
       "      <th>max</th>\n",
       "      <td>102.000000</td>\n",
       "      <td>1.000000</td>\n",
       "      <td>1.000000</td>\n",
       "      <td>178.000000</td>\n",
       "      <td>0.0</td>\n",
       "    </tr>\n",
       "  </tbody>\n",
       "</table>\n",
       "</div>"
      ],
      "text/plain": [
       "                Age  TextReceived        NoShow   DaysBetween  No-show\n",
       "count  66746.000000  66746.000000  66746.000000  66746.000000  66746.0\n",
       "mean      39.468033      0.531597      0.290789     15.785590      0.0\n",
       "std       21.871246      0.499004      0.454130     16.590956      0.0\n",
       "min        1.000000      0.000000      0.000000      1.000000      0.0\n",
       "25%       22.000000      0.000000      0.000000      4.000000      0.0\n",
       "50%       39.000000      1.000000      0.000000     11.000000      0.0\n",
       "75%       56.000000      1.000000      1.000000     23.000000      0.0\n",
       "max      102.000000      1.000000      1.000000    178.000000      0.0"
      ]
     },
     "execution_count": 374,
     "metadata": {},
     "output_type": "execute_result"
    }
   ],
   "source": [
    "clean_exclude_sameday.describe()"
   ]
  },
  {
   "cell_type": "markdown",
   "id": "a3bcb46f-5151-46ee-a3cd-455266ba7d0e",
   "metadata": {},
   "source": [
    "We can see from the summary statistics that the average age was 38.39, ~53% of patients received a text prior to their appointment and there was an overall no show rate of ~29% The average number of days between appointments was 15.79 days with a minimum of 1 day and a maximum of 178 days. The average age is a little higher than the average age in the entire dataset which was 37.09. The text received rate was higher than the overall dataset which had only 32% of patients receiving texts. The no show rate is also higher than the 20% from the overall dataset. The average days in between is higher than the average in the overall dataset which was 9.5. This does suggest that the inclusion of same day appointments was skewing some of the data regarding these three metrics while the average age stays about the same. \n"
   ]
  },
  {
   "cell_type": "markdown",
   "id": "2211f202-239f-4b4d-841d-15d9524d3d49",
   "metadata": {},
   "source": [
    "# Binary Logistic Regression"
   ]
  },
  {
   "cell_type": "markdown",
   "id": "4d3ccc8f-0a3a-4ee8-8a21-a3dc5491d4a6",
   "metadata": {},
   "source": [
    "The null hypothesis is that there is no relationship between receiving a text message reminder and reducing \"no-shows\" for appointments.<BR>\n",
    "    \n",
    "The alternative hypothesis is that there is a relationship between receiving a text message reminder and reducing \"no-shows\" for appointments.<BR>\n",
    "    \n",
    "   $$\n",
    "H_0 : p_{new} - p_{old} \\leq 0 \\\\\n",
    "H_1 : p_{new} - p_{old} > 0\n",
    "$$\n",
    "\n",
    "\n",
    "It is assumed that there is no relationship between receiving a text message reminder and reducing no shows if the Type 1 error rate is 5% or higher\n"
   ]
  },
  {
   "cell_type": "code",
   "execution_count": 231,
   "id": "d3d8d61f-0762-45e4-ba40-2b06a7faada0",
   "metadata": {},
   "outputs": [
    {
     "name": "stdout",
     "output_type": "stream",
     "text": [
      "<class 'pandas.core.frame.DataFrame'>\n",
      "Int64Index: 66746 entries, 5 to 110526\n",
      "Data columns (total 9 columns):\n",
      " #   Column          Non-Null Count  Dtype              \n",
      "---  ------          --------------  -----              \n",
      " 0   Gender          66746 non-null  object             \n",
      " 1   ScheduledDay    66746 non-null  datetime64[ns, UTC]\n",
      " 2   AppointmentDay  66746 non-null  datetime64[ns, UTC]\n",
      " 3   Age             66746 non-null  float64            \n",
      " 4   TextReceived    66746 non-null  int64              \n",
      " 5   NoShow          66746 non-null  int64              \n",
      " 6   DaysBetween     66746 non-null  int64              \n",
      " 7   Age Bin         64800 non-null  category           \n",
      " 8   No-show         66746 non-null  int32              \n",
      "dtypes: category(1), datetime64[ns, UTC](2), float64(1), int32(1), int64(3), object(1)\n",
      "memory usage: 4.4+ MB\n"
     ]
    }
   ],
   "source": [
    "clean_exclude_sameday.info()"
   ]
  },
  {
   "cell_type": "code",
   "execution_count": 375,
   "id": "c04ca68d-709b-48f8-b19c-8486c5dd0005",
   "metadata": {},
   "outputs": [
    {
     "name": "stdout",
     "output_type": "stream",
     "text": [
      "Optimization terminated successfully.\n",
      "         Current function value: 0.637724\n",
      "         Iterations 5\n",
      "                           Logit Regression Results                           \n",
      "==============================================================================\n",
      "Dep. Variable:                 NoShow   No. Observations:                66746\n",
      "Model:                          Logit   Df Residuals:                    66745\n",
      "Method:                           MLE   Df Model:                            0\n",
      "Date:                Thu, 09 Feb 2023   Pseudo R-squ.:                -0.05784\n",
      "Time:                        11:03:06   Log-Likelihood:                -42566.\n",
      "converged:                       True   LL-Null:                       -40238.\n",
      "Covariance Type:            nonrobust   LLR p-value:                       nan\n",
      "================================================================================\n",
      "                   coef    std err          z      P>|z|      [0.025      0.975]\n",
      "--------------------------------------------------------------------------------\n",
      "TextReceived    -0.9657      0.012    -81.289      0.000      -0.989      -0.942\n",
      "================================================================================\n",
      "Odds ratio:  TextReceived    0.38073\n",
      "dtype: float64\n"
     ]
    }
   ],
   "source": [
    "# Fit the logistic regression model\n",
    "model = sm.Logit(clean_exclude_sameday[\"NoShow\"], clean_exclude_sameday[[\"TextReceived\"]])\n",
    "result = model.fit()\n",
    "\n",
    "# Get the summary of the model\n",
    "print(result.summary())\n",
    "\n",
    "# Calculate the odds ratio\n",
    "odds_ratio = np.exp(result.params)\n",
    "print(\"Odds ratio: \", odds_ratio)\n"
   ]
  },
  {
   "cell_type": "markdown",
   "id": "157bca2d-b5bc-4f36-8227-e0f705b44b65",
   "metadata": {},
   "source": [
    "The coefficient of the independent variable (TextReceived) is -0.9657, with a standard error of 0.012. This means that the odds of a patient not showing up to their appointment decreases by 0.38 times if they received a text message reminder (the odds ratio is calculated as 1 / (e^-0.9657)).\n",
    "\n",
    "The z-score of -81.289 for the coefficient, and the resulting p-value of 0.000, suggest that the relationship between receiving a text message reminder and not showing up to the appointment is statistically significant (p < 0.05), and that it is unlikely that this relationship is due to chance.\n",
    "\n",
    "Therefore, you can conclude that there is evidence to support the alternative hypothesis, which states that there is a relationship between receiving a text message reminder and reducing \"no-shows\" for appointments."
   ]
  },
  {
   "cell_type": "code",
   "execution_count": 376,
   "id": "a9440467-1096-4df2-be31-a8dc9c612386",
   "metadata": {},
   "outputs": [
    {
     "name": "stdout",
     "output_type": "stream",
     "text": [
      "Optimization terminated successfully.\n",
      "         Current function value: 0.602235\n",
      "         Iterations 5\n",
      "                           Logit Regression Results                           \n",
      "==============================================================================\n",
      "Dep. Variable:                 NoShow   No. Observations:                66746\n",
      "Model:                          Logit   Df Residuals:                    66744\n",
      "Method:                           MLE   Df Model:                            1\n",
      "Date:                Thu, 09 Feb 2023   Pseudo R-squ.:                0.001032\n",
      "Time:                        11:03:09   Log-Likelihood:                -40197.\n",
      "converged:                       True   LL-Null:                       -40238.\n",
      "Covariance Type:            nonrobust   LLR p-value:                 8.027e-20\n",
      "================================================================================\n",
      "                   coef    std err          z      P>|z|      [0.025      0.975]\n",
      "--------------------------------------------------------------------------------\n",
      "const           -0.8101      0.012    -66.123      0.000      -0.834      -0.786\n",
      "TextReceived    -0.1555      0.017     -9.114      0.000      -0.189      -0.122\n",
      "================================================================================\n"
     ]
    }
   ],
   "source": [
    "\n",
    "# Define the response variable as 'No Show' and the predictor as 'TextReceived'\n",
    "y = clean_exclude_sameday['NoShow']\n",
    "X = clean_exclude_sameday[['TextReceived']]\n",
    "\n",
    "# Add a constant to the predictor variables\n",
    "X = sm.add_constant(X)\n",
    "\n",
    "# Fit the binary logistic regression model\n",
    "logit_model = sm.Logit(y, X).fit()\n",
    "\n",
    "# Print the summary of the model\n",
    "print(logit_model.summary())\n"
   ]
  },
  {
   "cell_type": "markdown",
   "id": "523f1034-b79a-4dac-a085-fa8773cec2c2",
   "metadata": {},
   "source": [
    "The results from this second set of code show the effect of the binary predictor (TextReceived) on the binary response (No Show). The results indicate that:\n",
    "\n",
    "- The coefficients of the predictor (TextReceived) and the constant are significant in the logistic regression model, with a p-value of less than 0.05. This suggests that the predictor has a significant effect on the response.\n",
    "\n",
    "- The coefficient for the predictor (TextReceived) is -0.1555, with a standard error of 0.017. This suggests that for every unit increase in the value of TextReceived, the log odds of No Show decrease by 0.1555.\n",
    "\n",
    "- The odds ratio for TextReceived is calculated by exponentiating the coefficient, and it is 0.8575. This means that, holding all other variables constant, the odds of No Show are 0.8575 times lower for individuals who received a text message reminder compared to those who did not receive a reminder.\n",
    "\n",
    "Based on the second logistic regression test, there is a significant effect of text messages on no-shows. The coefficient for \"TextReceived\" is -0.1555, with a p-value of 0.000, which suggests that receiving text messages is negatively associated with the likelihood of a no-show. This means that patients who receive text messages are less likely to miss their appointments compared to those who do not receive text messages."
   ]
  },
  {
   "cell_type": "markdown",
   "id": "a55d7a59-b404-4ec2-8b88-6be6079c6f0a",
   "metadata": {},
   "source": [
    "- The first test was a binary logistic regression model with only the \"TextReceived\" variable. \n",
    "- The second test was a binary logistic regression model with an added constant (intercept) and both \"const\" and \"TextReceived\" variables. The second model is more comprehensive and allows for the analysis of the effect of both the constant and the \"TextReceived\" variable on the probability of the response variable, \"No Show\"."
   ]
  },
  {
   "cell_type": "code",
   "execution_count": null,
   "id": "4ac67085-702d-495c-8d33-729156fc2095",
   "metadata": {},
   "outputs": [],
   "source": []
  }
 ],
 "metadata": {
  "kernelspec": {
   "display_name": "Python 3 (ipykernel)",
   "language": "python",
   "name": "python3"
  },
  "language_info": {
   "codemirror_mode": {
    "name": "ipython",
    "version": 3
   },
   "file_extension": ".py",
   "mimetype": "text/x-python",
   "name": "python",
   "nbconvert_exporter": "python",
   "pygments_lexer": "ipython3",
   "version": "3.9.13"
  },
  "toc-showcode": false
 },
 "nbformat": 4,
 "nbformat_minor": 5
}
